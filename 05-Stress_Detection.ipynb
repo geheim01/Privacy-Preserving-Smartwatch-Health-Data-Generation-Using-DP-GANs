{
 "cells": [
  {
   "attachments": {},
   "cell_type": "markdown",
   "metadata": {},
   "source": [
    "# <a id='toc1_'></a>[Stress Detection From Wearables](#toc0_)"
   ]
  },
  {
   "attachments": {},
   "cell_type": "markdown",
   "metadata": {},
   "source": [
    "### <a id='toc1_1_1_'></a>[Imports](#toc0_)"
   ]
  },
  {
   "cell_type": "code",
   "execution_count": 11,
   "metadata": {
    "tags": []
   },
   "outputs": [],
   "source": [
    "import os\n",
    "import pickle\n",
    "import scipy.signal\n",
    "from scipy import fft\n",
    "import pandas as pd\n",
    "import matplotlib.pyplot as plt\n",
    "import numpy as np\n",
    "import seaborn as sns\n",
    "from synthesizers.preprocessing.wesad import WESADDataset\n",
    "from typing import List, Tuple, Dict\n",
    "from stress_detector.data.datatype import DataType\n",
    "\n",
    "from stress_detector.preprocessing import load_data\n",
    "from stress_detector.model import build_model, train, evaluate\n",
    "from stress_detector import constants\n",
    "\n",
    "\n",
    "from random import shuffle"
   ]
  },
  {
   "attachments": {},
   "cell_type": "markdown",
   "metadata": {},
   "source": [
    "### Data Loading"
   ]
  },
  {
   "cell_type": "code",
   "execution_count": 13,
   "metadata": {},
   "outputs": [],
   "source": [
    "DATA_PATH = '/Users/nils/master/Stress-Detection-From-Wearables/data/WESAD'\n",
    "SYNTHETIC_DGAN_DATA_PATH = '/Users/nils/thesis/gretel-synthetics/src/syn_df_30000_1hz'\n",
    "# SYNTHETIC_DGAN_DATA_PATH = '/Users/nils/thesis/gretel-synthetics/src/syn_df_20720_1hz'\n",
    "# SYNTHETIC_CGAN_DATA_PATH = 'data/syn/cond_syn_gen_54000.npy'\n",
    "# SYNTHETIC_CGAN_DATA_PATH = 'data/syn/cgan/no_dp/5400.npy'\n",
    "# SYNTHETIC_CGAN_DATA_PATH = 'data/syn/cgan/no_dp/5400_0.6785.npy'\n",
    "SYNTHETIC_CGAN_DATA_PATH = 'data/syn/cgan/no_dp/5400_0.65625.npy'\n",
    "DP_SYNTHETIC_CGAN_DATA_PATH = 'data/syn/cgan/dp/5400.npy'\n",
    "# SYNTHETIC_DATA_PATH = \"/Users/nils/thesis/gretel-synthetics/syn_df\"\n",
    "SAMPLING_RATE = 1"
   ]
  },
  {
   "cell_type": "code",
   "execution_count": null,
   "metadata": {},
   "outputs": [],
   "source": [
    "all_subjects_X, all_subjects_y = load_data(DataType.CGAN, 1, synthetic_data_path=SYNTHETIC_CGAN_DATA_PATH)"
   ]
  },
  {
   "cell_type": "code",
   "execution_count": null,
   "metadata": {},
   "outputs": [],
   "source": [
    "all_subjects_X, all_subjects_y = load_data(DataType.DGAN, 1, synthetic_data_path=SYNTHETIC_DGAN_DATA_PATH)"
   ]
  },
  {
   "attachments": {},
   "cell_type": "markdown",
   "metadata": {},
   "source": [
    "### <a id='toc1_3_3_'></a>[Train model](#toc0_)"
   ]
  },
  {
   "attachments": {},
   "cell_type": "markdown",
   "metadata": {},
   "source": [
    "![OS_Sensors](images/os_sensors.png)"
   ]
  },
  {
   "attachments": {},
   "cell_type": "markdown",
   "metadata": {},
   "source": [
    "![model_architecture](images/model_architecture.png)"
   ]
  },
  {
   "cell_type": "code",
   "execution_count": 5,
   "metadata": {},
   "outputs": [
    {
     "name": "stdout",
     "output_type": "stream",
     "text": [
      "5399\n",
      "2699\n"
     ]
    }
   ],
   "source": [
    "print(len(all_subjects_y[15]))\n",
    "count = 0\n",
    "for i in all_subjects_y[15]:\n",
    "    if i == 1:\n",
    "        count += 1\n",
    "print(count)"
   ]
  },
  {
   "cell_type": "code",
   "execution_count": null,
   "metadata": {},
   "outputs": [],
   "source": [
    "train(\"E4\", constants.SIGNALS, all_subjects_X, all_subjects_y, data_type=DataType.DGAN, num_epochs=5000, with_loso=False)"
   ]
  },
  {
   "cell_type": "code",
   "execution_count": 8,
   "metadata": {},
   "outputs": [
    {
     "name": "stdout",
     "output_type": "stream",
     "text": [
      "\n",
      "\n",
      "\n",
      "SmartwatchOS: E4\n",
      "DataType: DataType.CGAN\n",
      "DataType: <enum 'DataType'>\n",
      "Signals: ACC_x ACC_y ACC_z TEMP EDA BVP\n",
      "Number of signals: 6\n",
      "BASE PATH: models/stress_detector/tstr\n",
      "[0. 0. 1. 0. 1. 0. 1. 1. 0. 1.]\n",
      "Metal device set to: Apple M1 Max\n",
      "\n",
      "systemMemory: 32.00 GB\n",
      "maxCacheSize: 10.67 GB\n",
      "\n"
     ]
    },
    {
     "name": "stderr",
     "output_type": "stream",
     "text": [
      "2023-06-06 15:54:44.079697: I tensorflow/core/common_runtime/pluggable_device/pluggable_device_factory.cc:306] Could not identify NUMA node of platform GPU ID 0, defaulting to 0. Your kernel may not have been built with NUMA support.\n",
      "2023-06-06 15:54:44.080445: I tensorflow/core/common_runtime/pluggable_device/pluggable_device_factory.cc:272] Created TensorFlow device (/job:localhost/replica:0/task:0/device:GPU:0 with 0 MB memory) -> physical PluggableDevice (device: 0, name: METAL, pci bus id: <undefined>)\n"
     ]
    },
    {
     "name": "stdout",
     "output_type": "stream",
     "text": [
      "data_type == DataType.DGAN: False\n",
      "data_type == DataType.CGAN: True\n",
      "MODEL PATH: models/stress_detector/tstr/syn/cgan/10/wesad.h5\n",
      "Epoch 1/10\n"
     ]
    },
    {
     "name": "stderr",
     "output_type": "stream",
     "text": [
      "2023-06-06 15:54:44.432409: W tensorflow/core/platform/profile_utils/cpu_utils.cc:128] Failed to get CPU frequency: 0 Hz\n",
      "2023-06-06 15:54:45.127169: I tensorflow/core/grappler/optimizers/custom_graph_optimizer_registry.cc:114] Plugin optimizer for device_type GPU is enabled.\n"
     ]
    },
    {
     "name": "stdout",
     "output_type": "stream",
     "text": [
      "87/87 [==============================] - ETA: 0s - loss: 0.3467 - accuracy: 0.8465 - precision: 0.8452 - recall: 0.8435"
     ]
    },
    {
     "name": "stderr",
     "output_type": "stream",
     "text": [
      "2023-06-06 15:54:48.352872: I tensorflow/core/grappler/optimizers/custom_graph_optimizer_registry.cc:114] Plugin optimizer for device_type GPU is enabled.\n"
     ]
    },
    {
     "name": "stdout",
     "output_type": "stream",
     "text": [
      "87/87 [==============================] - 4s 35ms/step - loss: 0.3467 - accuracy: 0.8465 - precision: 0.8452 - recall: 0.8435 - val_loss: 0.2286 - val_accuracy: 0.9259 - val_precision: 0.9257 - val_recall: 0.9231\n",
      "Epoch 2/10\n",
      "87/87 [==============================] - 2s 28ms/step - loss: 0.2210 - accuracy: 0.9148 - precision: 0.9119 - recall: 0.9136 - val_loss: 0.1797 - val_accuracy: 0.9500 - val_precision: 0.9465 - val_recall: 0.9509\n",
      "Epoch 3/10\n",
      "87/87 [==============================] - 2s 27ms/step - loss: 0.2013 - accuracy: 0.9275 - precision: 0.9256 - recall: 0.9271 - val_loss: 0.1676 - val_accuracy: 0.9537 - val_precision: 0.9563 - val_recall: 0.9528\n",
      "Epoch 4/10\n",
      "87/87 [==============================] - 2s 28ms/step - loss: 0.1918 - accuracy: 0.9317 - precision: 0.9321 - recall: 0.9317 - val_loss: 0.1425 - val_accuracy: 0.9565 - val_precision: 0.9556 - val_recall: 0.9565\n",
      "Epoch 5/10\n",
      "87/87 [==============================] - 2s 27ms/step - loss: 0.1758 - accuracy: 0.9384 - precision: 0.9381 - recall: 0.9366 - val_loss: 0.1623 - val_accuracy: 0.9472 - val_precision: 0.9472 - val_recall: 0.9463\n",
      "Epoch 6/10\n",
      "87/87 [==============================] - 3s 29ms/step - loss: 0.1732 - accuracy: 0.9403 - precision: 0.9401 - recall: 0.9412 - val_loss: 0.1524 - val_accuracy: 0.9500 - val_precision: 0.9508 - val_recall: 0.9491\n",
      "Epoch 7/10\n",
      "87/87 [==============================] - 2s 28ms/step - loss: 0.1610 - accuracy: 0.9444 - precision: 0.9436 - recall: 0.9447 - val_loss: 0.1489 - val_accuracy: 0.9611 - val_precision: 0.9568 - val_recall: 0.9639\n",
      "Epoch 8/10\n",
      "87/87 [==============================] - 2s 27ms/step - loss: 0.1575 - accuracy: 0.9461 - precision: 0.9435 - recall: 0.9472 - val_loss: 0.1466 - val_accuracy: 0.9546 - val_precision: 0.9546 - val_recall: 0.9537\n",
      "Epoch 9/10\n",
      "87/87 [==============================] - 2s 28ms/step - loss: 0.1478 - accuracy: 0.9539 - precision: 0.9518 - recall: 0.9516 - val_loss: 0.1456 - val_accuracy: 0.9417 - val_precision: 0.9426 - val_recall: 0.9435\n",
      "Epoch 10/10\n",
      "87/87 [==============================] - 2s 27ms/step - loss: 0.1463 - accuracy: 0.9505 - precision: 0.9496 - recall: 0.9518 - val_loss: 0.1288 - val_accuracy: 0.9602 - val_precision: 0.9558 - val_recall: 0.9611\n"
     ]
    }
   ],
   "source": [
    "# CGAN HIDDEN_SIZE 64\n",
    "train(\"E4\", constants.SIGNALS, all_subjects_X, all_subjects_y, data_type=DataType.CGAN, num_epochs = 10, with_loso=False)"
   ]
  },
  {
   "cell_type": "code",
   "execution_count": null,
   "metadata": {},
   "outputs": [],
   "source": [
    "# DP CGAN\n",
    "train(\"E4\", SIGNALS, all_subjects_X, all_subjects_y, DataType.CGAN, num_epochs = 1000, with_loso=False)"
   ]
  },
  {
   "cell_type": "code",
   "execution_count": null,
   "metadata": {},
   "outputs": [],
   "source": [
    "# NEW CGAN DATASET TO COMPARE TO DP\n",
    "train(\"E4\", SIGNALS, all_subjects_X, all_subjects_y, DataType.CGAN, num_epochs = 1000, with_loso=False)"
   ]
  },
  {
   "cell_type": "code",
   "execution_count": 179,
   "metadata": {},
   "outputs": [
    {
     "name": "stdout",
     "output_type": "stream",
     "text": [
      "\n",
      "\n",
      "\n",
      "SmartwatchOS: E4\n",
      "DataType: DataType.CGAN\n",
      "Signals: ACC_x ACC_y ACC_z TEMP EDA BVP\n",
      "Number of signals: 6\n",
      "Epoch 1/1000\n"
     ]
    },
    {
     "name": "stderr",
     "output_type": "stream",
     "text": [
      "2023-06-04 11:20:19.804929: I tensorflow/core/grappler/optimizers/custom_graph_optimizer_registry.cc:114] Plugin optimizer for device_type GPU is enabled.\n"
     ]
    },
    {
     "name": "stdout",
     "output_type": "stream",
     "text": [
      "1080/1080 [==============================] - 31s 26ms/step - loss: 0.1762 - accuracy: 0.9344 - precision: 0.9338 - recall: 0.9337\n",
      "Epoch 2/1000\n",
      "1080/1080 [==============================] - 26s 24ms/step - loss: 0.1156 - accuracy: 0.9612 - precision: 0.9608 - recall: 0.9609\n",
      "Epoch 3/1000\n",
      "1080/1080 [==============================] - 26s 24ms/step - loss: 0.0966 - accuracy: 0.9682 - precision: 0.9679 - recall: 0.9684\n",
      "Epoch 4/1000\n",
      "1080/1080 [==============================] - 26s 24ms/step - loss: 0.0895 - accuracy: 0.9715 - precision: 0.9717 - recall: 0.9713\n",
      "Epoch 5/1000\n",
      "1080/1080 [==============================] - 26s 24ms/step - loss: 0.0847 - accuracy: 0.9736 - precision: 0.9739 - recall: 0.9738\n",
      "Epoch 6/1000\n",
      "1080/1080 [==============================] - 27s 25ms/step - loss: 0.0835 - accuracy: 0.9757 - precision: 0.9755 - recall: 0.9757\n",
      "Epoch 7/1000\n",
      "1080/1080 [==============================] - 26s 24ms/step - loss: 0.0805 - accuracy: 0.9762 - precision: 0.9762 - recall: 0.9763\n",
      "Epoch 8/1000\n",
      "1080/1080 [==============================] - 26s 24ms/step - loss: 0.0782 - accuracy: 0.9771 - precision: 0.9770 - recall: 0.9770\n",
      "Epoch 9/1000\n",
      "1080/1080 [==============================] - 26s 24ms/step - loss: 0.0751 - accuracy: 0.9775 - precision: 0.9773 - recall: 0.9776\n",
      "Epoch 10/1000\n",
      "1080/1080 [==============================] - 26s 24ms/step - loss: 0.0793 - accuracy: 0.9781 - precision: 0.9777 - recall: 0.9781\n",
      "Epoch 11/1000\n",
      "1080/1080 [==============================] - 26s 24ms/step - loss: 0.0808 - accuracy: 0.9769 - precision: 0.9771 - recall: 0.9768\n",
      "Epoch 12/1000\n",
      "1080/1080 [==============================] - 26s 24ms/step - loss: 0.0768 - accuracy: 0.9775 - precision: 0.9775 - recall: 0.9777\n",
      "Epoch 13/1000\n",
      "1080/1080 [==============================] - 26s 24ms/step - loss: 0.0777 - accuracy: 0.9776 - precision: 0.9777 - recall: 0.9779\n",
      "Epoch 14/1000\n",
      "1080/1080 [==============================] - 26s 24ms/step - loss: 0.0781 - accuracy: 0.9780 - precision: 0.9778 - recall: 0.9779\n",
      "Epoch 15/1000\n",
      "1080/1080 [==============================] - 26s 24ms/step - loss: 0.0743 - accuracy: 0.9782 - precision: 0.9782 - recall: 0.9783\n",
      "Epoch 16/1000\n",
      "1080/1080 [==============================] - 26s 25ms/step - loss: 0.0790 - accuracy: 0.9783 - precision: 0.9781 - recall: 0.9782\n",
      "Epoch 17/1000\n",
      "1080/1080 [==============================] - 27s 25ms/step - loss: 0.0742 - accuracy: 0.9780 - precision: 0.9780 - recall: 0.9780\n",
      "Epoch 18/1000\n",
      "1080/1080 [==============================] - 27s 25ms/step - loss: 0.0750 - accuracy: 0.9777 - precision: 0.9779 - recall: 0.9778\n",
      "Epoch 19/1000\n",
      "1080/1080 [==============================] - 27s 25ms/step - loss: 0.0857 - accuracy: 0.9776 - precision: 0.9776 - recall: 0.9774\n",
      "Epoch 20/1000\n",
      "1080/1080 [==============================] - 27s 25ms/step - loss: 0.0834 - accuracy: 0.9778 - precision: 0.9776 - recall: 0.9777\n",
      "Epoch 21/1000\n",
      "1080/1080 [==============================] - 26s 24ms/step - loss: 0.0806 - accuracy: 0.9768 - precision: 0.9768 - recall: 0.9765\n",
      "Epoch 22/1000\n",
      "1080/1080 [==============================] - 27s 25ms/step - loss: 0.0744 - accuracy: 0.9769 - precision: 0.9770 - recall: 0.9767\n",
      "Epoch 23/1000\n",
      "1080/1080 [==============================] - 26s 24ms/step - loss: 0.0780 - accuracy: 0.9771 - precision: 0.9772 - recall: 0.9773\n",
      "Epoch 24/1000\n",
      "1080/1080 [==============================] - 27s 25ms/step - loss: 0.0759 - accuracy: 0.9771 - precision: 0.9770 - recall: 0.9770\n",
      "Epoch 25/1000\n",
      "1080/1080 [==============================] - 27s 25ms/step - loss: 0.0764 - accuracy: 0.9778 - precision: 0.9779 - recall: 0.9779\n",
      "Epoch 26/1000\n",
      "1080/1080 [==============================] - 27s 25ms/step - loss: 0.0739 - accuracy: 0.9772 - precision: 0.9772 - recall: 0.9772\n",
      "Epoch 27/1000\n",
      "1080/1080 [==============================] - 26s 24ms/step - loss: 0.0775 - accuracy: 0.9771 - precision: 0.9770 - recall: 0.9771\n",
      "Epoch 28/1000\n",
      "1080/1080 [==============================] - 26s 24ms/step - loss: 0.0778 - accuracy: 0.9764 - precision: 0.9762 - recall: 0.9763\n",
      "Epoch 29/1000\n",
      "1080/1080 [==============================] - 26s 24ms/step - loss: 0.0805 - accuracy: 0.9764 - precision: 0.9765 - recall: 0.9765\n",
      "Epoch 30/1000\n",
      "1080/1080 [==============================] - 28s 26ms/step - loss: 0.0781 - accuracy: 0.9764 - precision: 0.9764 - recall: 0.9764\n",
      "Epoch 31/1000\n",
      "1080/1080 [==============================] - 26s 24ms/step - loss: 0.0780 - accuracy: 0.9762 - precision: 0.9762 - recall: 0.9763\n",
      "Epoch 32/1000\n",
      "1080/1080 [==============================] - 27s 25ms/step - loss: 0.0799 - accuracy: 0.9756 - precision: 0.9757 - recall: 0.9756\n",
      "Epoch 33/1000\n",
      "1080/1080 [==============================] - 26s 24ms/step - loss: 0.0803 - accuracy: 0.9761 - precision: 0.9761 - recall: 0.9761\n",
      "Epoch 34/1000\n",
      "1080/1080 [==============================] - 27s 25ms/step - loss: 0.0803 - accuracy: 0.9756 - precision: 0.9756 - recall: 0.9756\n",
      "Epoch 35/1000\n",
      "1080/1080 [==============================] - 26s 24ms/step - loss: 0.0814 - accuracy: 0.9761 - precision: 0.9761 - recall: 0.9760\n",
      "Epoch 36/1000\n",
      "1080/1080 [==============================] - 26s 24ms/step - loss: 0.0836 - accuracy: 0.9749 - precision: 0.9749 - recall: 0.9749\n",
      "Epoch 37/1000\n",
      "1080/1080 [==============================] - 26s 24ms/step - loss: 0.0875 - accuracy: 0.9758 - precision: 0.9758 - recall: 0.9758\n",
      "Epoch 38/1000\n",
      "1080/1080 [==============================] - 26s 24ms/step - loss: 0.0803 - accuracy: 0.9752 - precision: 0.9752 - recall: 0.9752\n",
      "Epoch 39/1000\n",
      "1080/1080 [==============================] - 25s 24ms/step - loss: 0.0848 - accuracy: 0.9751 - precision: 0.9750 - recall: 0.9750\n",
      "Epoch 40/1000\n",
      "1080/1080 [==============================] - 25s 23ms/step - loss: 0.0820 - accuracy: 0.9754 - precision: 0.9753 - recall: 0.9753\n",
      "Epoch 41/1000\n",
      "1080/1080 [==============================] - 26s 24ms/step - loss: 0.0854 - accuracy: 0.9751 - precision: 0.9750 - recall: 0.9751\n",
      "Epoch 42/1000\n",
      "1080/1080 [==============================] - 26s 24ms/step - loss: 0.0889 - accuracy: 0.9751 - precision: 0.9751 - recall: 0.9751\n",
      "Epoch 43/1000\n",
      "1080/1080 [==============================] - 25s 24ms/step - loss: 0.0835 - accuracy: 0.9747 - precision: 0.9747 - recall: 0.9748\n",
      "Epoch 44/1000\n",
      "1080/1080 [==============================] - 26s 24ms/step - loss: 0.0831 - accuracy: 0.9748 - precision: 0.9748 - recall: 0.9749\n",
      "Epoch 45/1000\n",
      "1080/1080 [==============================] - 25s 23ms/step - loss: 0.0828 - accuracy: 0.9743 - precision: 0.9742 - recall: 0.9743\n",
      "Epoch 46/1000\n",
      "1080/1080 [==============================] - 26s 24ms/step - loss: 0.0838 - accuracy: 0.9739 - precision: 0.9739 - recall: 0.9738\n",
      "Epoch 47/1000\n",
      "1080/1080 [==============================] - 26s 24ms/step - loss: 0.0866 - accuracy: 0.9737 - precision: 0.9737 - recall: 0.9736\n",
      "Epoch 48/1000\n",
      "1080/1080 [==============================] - 25s 24ms/step - loss: 0.0904 - accuracy: 0.9736 - precision: 0.9736 - recall: 0.9737\n",
      "Epoch 49/1000\n",
      "1080/1080 [==============================] - 25s 24ms/step - loss: 0.0862 - accuracy: 0.9729 - precision: 0.9729 - recall: 0.9729\n",
      "Epoch 50/1000\n",
      "1080/1080 [==============================] - 25s 24ms/step - loss: 0.0857 - accuracy: 0.9745 - precision: 0.9746 - recall: 0.9745\n",
      "Epoch 51/1000\n",
      "1080/1080 [==============================] - 26s 24ms/step - loss: 0.0919 - accuracy: 0.9734 - precision: 0.9733 - recall: 0.9733\n",
      "Epoch 52/1000\n",
      "1080/1080 [==============================] - 25s 24ms/step - loss: 0.0864 - accuracy: 0.9744 - precision: 0.9744 - recall: 0.9743\n",
      "Epoch 53/1000\n",
      "1080/1080 [==============================] - 26s 24ms/step - loss: 0.0885 - accuracy: 0.9725 - precision: 0.9726 - recall: 0.9725\n",
      "Epoch 54/1000\n",
      "1080/1080 [==============================] - 26s 24ms/step - loss: 0.1022 - accuracy: 0.9720 - precision: 0.9720 - recall: 0.9720\n",
      "Epoch 55/1000\n",
      "1080/1080 [==============================] - 27s 25ms/step - loss: 0.1121 - accuracy: 0.9717 - precision: 0.9717 - recall: 0.9717\n",
      "Epoch 56/1000\n",
      "1080/1080 [==============================] - 26s 24ms/step - loss: 0.0893 - accuracy: 0.9724 - precision: 0.9724 - recall: 0.9724\n",
      "Epoch 57/1000\n",
      "1080/1080 [==============================] - 27s 25ms/step - loss: 0.0926 - accuracy: 0.9714 - precision: 0.9714 - recall: 0.9714\n",
      "Epoch 58/1000\n",
      "1080/1080 [==============================] - 26s 24ms/step - loss: 0.0868 - accuracy: 0.9723 - precision: 0.9723 - recall: 0.9722\n",
      "Epoch 59/1000\n",
      "1080/1080 [==============================] - 27s 25ms/step - loss: 0.0905 - accuracy: 0.9719 - precision: 0.9719 - recall: 0.9719\n",
      "Epoch 60/1000\n",
      "1080/1080 [==============================] - 26s 24ms/step - loss: 0.1008 - accuracy: 0.9716 - precision: 0.9716 - recall: 0.9715\n",
      "Epoch 61/1000\n",
      "1080/1080 [==============================] - 26s 24ms/step - loss: 0.0945 - accuracy: 0.9718 - precision: 0.9718 - recall: 0.9719\n",
      "Epoch 62/1000\n",
      "1080/1080 [==============================] - 27s 25ms/step - loss: 0.1082 - accuracy: 0.9660 - precision: 0.9660 - recall: 0.9660\n",
      "Epoch 63/1000\n",
      "1080/1080 [==============================] - 27s 25ms/step - loss: 0.1015 - accuracy: 0.9666 - precision: 0.9666 - recall: 0.9665\n",
      "Epoch 64/1000\n",
      "1080/1080 [==============================] - 28s 26ms/step - loss: 0.1009 - accuracy: 0.9671 - precision: 0.9671 - recall: 0.9671\n",
      "Epoch 65/1000\n",
      "1080/1080 [==============================] - 27s 25ms/step - loss: 0.1014 - accuracy: 0.9671 - precision: 0.9671 - recall: 0.9671\n",
      "Epoch 66/1000\n",
      "1080/1080 [==============================] - 28s 26ms/step - loss: 0.1009 - accuracy: 0.9674 - precision: 0.9674 - recall: 0.9674\n",
      "Epoch 67/1000\n",
      "1080/1080 [==============================] - 27s 25ms/step - loss: 0.0990 - accuracy: 0.9684 - precision: 0.9684 - recall: 0.9684\n",
      "Epoch 68/1000\n",
      "1080/1080 [==============================] - 28s 25ms/step - loss: 0.0987 - accuracy: 0.9687 - precision: 0.9687 - recall: 0.9687\n",
      "Epoch 69/1000\n",
      "1080/1080 [==============================] - 28s 26ms/step - loss: 0.0982 - accuracy: 0.9678 - precision: 0.9678 - recall: 0.9678\n",
      "Epoch 70/1000\n",
      "1080/1080 [==============================] - 27s 25ms/step - loss: 0.1028 - accuracy: 0.9678 - precision: 0.9678 - recall: 0.9679\n",
      "Epoch 71/1000\n",
      "1080/1080 [==============================] - 27s 25ms/step - loss: 0.1022 - accuracy: 0.9686 - precision: 0.9686 - recall: 0.9685\n",
      "Epoch 72/1000\n",
      "1080/1080 [==============================] - 27s 25ms/step - loss: 0.1042 - accuracy: 0.9691 - precision: 0.9692 - recall: 0.9691\n",
      "Epoch 73/1000\n",
      "1080/1080 [==============================] - 27s 25ms/step - loss: 0.0994 - accuracy: 0.9684 - precision: 0.9684 - recall: 0.9685\n",
      "Epoch 74/1000\n",
      "1080/1080 [==============================] - 28s 26ms/step - loss: 0.1072 - accuracy: 0.9668 - precision: 0.9668 - recall: 0.9668\n",
      "Epoch 75/1000\n",
      "1080/1080 [==============================] - 27s 25ms/step - loss: 0.0994 - accuracy: 0.9676 - precision: 0.9676 - recall: 0.9676\n",
      "Epoch 76/1000\n",
      "1080/1080 [==============================] - 27s 25ms/step - loss: 0.1059 - accuracy: 0.9658 - precision: 0.9658 - recall: 0.9658\n",
      "Epoch 77/1000\n",
      "1080/1080 [==============================] - 28s 26ms/step - loss: 0.1057 - accuracy: 0.9669 - precision: 0.9669 - recall: 0.9669\n",
      "Epoch 78/1000\n",
      "1080/1080 [==============================] - 28s 26ms/step - loss: 0.1018 - accuracy: 0.9670 - precision: 0.9670 - recall: 0.9670\n",
      "Epoch 79/1000\n",
      "1080/1080 [==============================] - 27s 25ms/step - loss: 0.1100 - accuracy: 0.9669 - precision: 0.9669 - recall: 0.9669\n",
      "Epoch 80/1000\n",
      "1080/1080 [==============================] - 27s 25ms/step - loss: 0.1003 - accuracy: 0.9671 - precision: 0.9671 - recall: 0.9671\n",
      "Epoch 81/1000\n",
      "1080/1080 [==============================] - 27s 25ms/step - loss: 0.1080 - accuracy: 0.9662 - precision: 0.9661 - recall: 0.9661\n",
      "Epoch 82/1000\n",
      "1080/1080 [==============================] - 27s 25ms/step - loss: 0.1052 - accuracy: 0.9673 - precision: 0.9672 - recall: 0.9673\n",
      "Epoch 83/1000\n",
      "1080/1080 [==============================] - 27s 25ms/step - loss: 0.1051 - accuracy: 0.9672 - precision: 0.9672 - recall: 0.9671\n",
      "Epoch 84/1000\n",
      "1080/1080 [==============================] - 27s 25ms/step - loss: 0.1062 - accuracy: 0.9660 - precision: 0.9660 - recall: 0.9660\n",
      "Epoch 85/1000\n",
      "1080/1080 [==============================] - 26s 24ms/step - loss: 0.1051 - accuracy: 0.9664 - precision: 0.9664 - recall: 0.9664\n",
      "Epoch 86/1000\n",
      "1080/1080 [==============================] - 28s 25ms/step - loss: 0.1050 - accuracy: 0.9668 - precision: 0.9668 - recall: 0.9668\n",
      "Epoch 87/1000\n",
      "1080/1080 [==============================] - 26s 24ms/step - loss: 0.1086 - accuracy: 0.9661 - precision: 0.9661 - recall: 0.9661\n",
      "Epoch 88/1000\n",
      "1080/1080 [==============================] - 28s 26ms/step - loss: 0.1075 - accuracy: 0.9651 - precision: 0.9651 - recall: 0.9651\n",
      "Epoch 89/1000\n",
      "1080/1080 [==============================] - 27s 25ms/step - loss: 0.1049 - accuracy: 0.9663 - precision: 0.9663 - recall: 0.9662\n",
      "Epoch 90/1000\n",
      "1080/1080 [==============================] - 27s 25ms/step - loss: 0.1123 - accuracy: 0.9656 - precision: 0.9656 - recall: 0.9656\n",
      "Epoch 91/1000\n",
      "1080/1080 [==============================] - 26s 24ms/step - loss: 0.1058 - accuracy: 0.9659 - precision: 0.9659 - recall: 0.9658\n",
      "Epoch 92/1000\n",
      "1080/1080 [==============================] - 26s 24ms/step - loss: 0.1081 - accuracy: 0.9652 - precision: 0.9652 - recall: 0.9652\n",
      "Epoch 93/1000\n",
      "1080/1080 [==============================] - 26s 24ms/step - loss: 0.1046 - accuracy: 0.9668 - precision: 0.9668 - recall: 0.9668\n",
      "Epoch 94/1000\n",
      "1080/1080 [==============================] - 26s 24ms/step - loss: 0.1008 - accuracy: 0.9666 - precision: 0.9666 - recall: 0.9666\n",
      "Epoch 95/1000\n",
      "1080/1080 [==============================] - 26s 24ms/step - loss: 0.1034 - accuracy: 0.9673 - precision: 0.9673 - recall: 0.9674\n",
      "Epoch 96/1000\n",
      "1080/1080 [==============================] - 26s 24ms/step - loss: 0.1006 - accuracy: 0.9671 - precision: 0.9671 - recall: 0.9671\n",
      "Epoch 97/1000\n",
      "1080/1080 [==============================] - 26s 24ms/step - loss: 0.1023 - accuracy: 0.9666 - precision: 0.9666 - recall: 0.9665\n",
      "Epoch 98/1000\n",
      "1080/1080 [==============================] - 26s 24ms/step - loss: 0.1082 - accuracy: 0.9659 - precision: 0.9660 - recall: 0.9659\n",
      "Epoch 99/1000\n",
      "1080/1080 [==============================] - 26s 24ms/step - loss: 0.1054 - accuracy: 0.9666 - precision: 0.9666 - recall: 0.9666\n",
      "Epoch 100/1000\n",
      "1080/1080 [==============================] - 26s 24ms/step - loss: 0.1047 - accuracy: 0.9658 - precision: 0.9658 - recall: 0.9658\n",
      "Epoch 101/1000\n",
      "1080/1080 [==============================] - 26s 24ms/step - loss: 0.1086 - accuracy: 0.9659 - precision: 0.9659 - recall: 0.9659\n",
      "Epoch 102/1000\n",
      "1080/1080 [==============================] - 26s 24ms/step - loss: 0.1174 - accuracy: 0.9647 - precision: 0.9647 - recall: 0.9647\n",
      "Epoch 103/1000\n",
      "1080/1080 [==============================] - 26s 24ms/step - loss: 0.1033 - accuracy: 0.9665 - precision: 0.9665 - recall: 0.9665\n",
      "Epoch 104/1000\n",
      "1080/1080 [==============================] - 26s 24ms/step - loss: 0.1042 - accuracy: 0.9650 - precision: 0.9650 - recall: 0.9650\n",
      "Epoch 105/1000\n",
      "1080/1080 [==============================] - 26s 24ms/step - loss: 0.1034 - accuracy: 0.9656 - precision: 0.9656 - recall: 0.9656\n",
      "Epoch 106/1000\n",
      "1080/1080 [==============================] - 26s 25ms/step - loss: 0.1030 - accuracy: 0.9666 - precision: 0.9666 - recall: 0.9666\n",
      "Epoch 107/1000\n",
      "1080/1080 [==============================] - 26s 24ms/step - loss: 0.1027 - accuracy: 0.9671 - precision: 0.9671 - recall: 0.9671\n",
      "Epoch 108/1000\n",
      "1080/1080 [==============================] - 26s 24ms/step - loss: 0.1120 - accuracy: 0.9650 - precision: 0.9650 - recall: 0.9650\n",
      "Epoch 109/1000\n",
      "1080/1080 [==============================] - 26s 24ms/step - loss: 0.1121 - accuracy: 0.9656 - precision: 0.9656 - recall: 0.9656\n",
      "Epoch 110/1000\n",
      "1080/1080 [==============================] - 26s 24ms/step - loss: 0.1061 - accuracy: 0.9663 - precision: 0.9663 - recall: 0.9663\n",
      "Epoch 111/1000\n",
      "1080/1080 [==============================] - 26s 24ms/step - loss: 0.1021 - accuracy: 0.9664 - precision: 0.9664 - recall: 0.9664\n",
      "Epoch 112/1000\n",
      "1080/1080 [==============================] - 27s 25ms/step - loss: 0.1052 - accuracy: 0.9663 - precision: 0.9663 - recall: 0.9663\n",
      "Epoch 113/1000\n",
      "1080/1080 [==============================] - 26s 24ms/step - loss: 0.1027 - accuracy: 0.9660 - precision: 0.9660 - recall: 0.9660\n",
      "Epoch 114/1000\n",
      "1080/1080 [==============================] - 27s 25ms/step - loss: 0.1073 - accuracy: 0.9653 - precision: 0.9652 - recall: 0.9653\n",
      "Epoch 115/1000\n",
      "1080/1080 [==============================] - 27s 25ms/step - loss: 0.1094 - accuracy: 0.9664 - precision: 0.9664 - recall: 0.9664\n",
      "Epoch 116/1000\n",
      "1080/1080 [==============================] - 26s 24ms/step - loss: 0.1078 - accuracy: 0.9650 - precision: 0.9650 - recall: 0.9651\n",
      "Epoch 117/1000\n",
      "1080/1080 [==============================] - 26s 24ms/step - loss: 0.1062 - accuracy: 0.9653 - precision: 0.9653 - recall: 0.9653\n",
      "Epoch 118/1000\n",
      "1080/1080 [==============================] - 27s 25ms/step - loss: 0.1076 - accuracy: 0.9649 - precision: 0.9649 - recall: 0.9649\n",
      "Epoch 119/1000\n",
      "1080/1080 [==============================] - 27s 25ms/step - loss: 0.1143 - accuracy: 0.9653 - precision: 0.9653 - recall: 0.9653\n",
      "Epoch 120/1000\n",
      "1080/1080 [==============================] - 26s 24ms/step - loss: 0.1147 - accuracy: 0.9649 - precision: 0.9649 - recall: 0.9649\n",
      "Epoch 121/1000\n",
      "1080/1080 [==============================] - 26s 24ms/step - loss: 0.1058 - accuracy: 0.9660 - precision: 0.9660 - recall: 0.9660\n",
      "Epoch 122/1000\n",
      "1080/1080 [==============================] - 26s 24ms/step - loss: 0.1062 - accuracy: 0.9650 - precision: 0.9650 - recall: 0.9650\n",
      "Epoch 123/1000\n",
      "1080/1080 [==============================] - 27s 25ms/step - loss: 0.1206 - accuracy: 0.9651 - precision: 0.9651 - recall: 0.9650\n",
      "Epoch 124/1000\n",
      "1080/1080 [==============================] - 26s 24ms/step - loss: 0.1087 - accuracy: 0.9653 - precision: 0.9653 - recall: 0.9653\n",
      "Epoch 125/1000\n",
      "1080/1080 [==============================] - 27s 25ms/step - loss: 0.1296 - accuracy: 0.9646 - precision: 0.9646 - recall: 0.9646\n",
      "Epoch 126/1000\n",
      "1080/1080 [==============================] - 26s 24ms/step - loss: 0.1099 - accuracy: 0.9631 - precision: 0.9630 - recall: 0.9630\n"
     ]
    }
   ],
   "source": [
    "# CGAN DATASET size 53999\n",
    "train(\"E4\", SIGNALS, all_subjects_X, all_subjects_y, DataType.CGAN, num_epochs = 1000, with_loso=False)"
   ]
  },
  {
   "cell_type": "code",
   "execution_count": 181,
   "metadata": {
    "tags": []
   },
   "outputs": [
    {
     "name": "stdout",
     "output_type": "stream",
     "text": [
      "\n",
      "\n",
      "\n",
      "SmartwatchOS: E4\n",
      "DataType: DataType.CGAN\n",
      "Signals: ACC_x ACC_y ACC_z TEMP EDA BVP\n",
      "Number of signals: 6\n",
      "Epoch 1/500\n"
     ]
    },
    {
     "name": "stderr",
     "output_type": "stream",
     "text": [
      "2023-06-04 12:28:00.141200: I tensorflow/core/grappler/optimizers/custom_graph_optimizer_registry.cc:114] Plugin optimizer for device_type GPU is enabled.\n"
     ]
    },
    {
     "name": "stdout",
     "output_type": "stream",
     "text": [
      "1080/1080 [==============================] - 31s 27ms/step - loss: 0.1807 - accuracy: 0.9340 - precision: 0.9331 - recall: 0.9340\n",
      "Epoch 2/500\n",
      "1080/1080 [==============================] - 27s 25ms/step - loss: 0.1208 - accuracy: 0.9606 - precision: 0.9606 - recall: 0.9603\n",
      "Epoch 3/500\n",
      "1080/1080 [==============================] - 26s 24ms/step - loss: 0.1003 - accuracy: 0.9673 - precision: 0.9675 - recall: 0.9669\n",
      "Epoch 4/500\n",
      "1080/1080 [==============================] - 26s 24ms/step - loss: 0.0884 - accuracy: 0.9711 - precision: 0.9710 - recall: 0.9708\n",
      "Epoch 5/500\n",
      "1080/1080 [==============================] - 27s 25ms/step - loss: 0.0833 - accuracy: 0.9737 - precision: 0.9737 - recall: 0.9736\n",
      "Epoch 6/500\n",
      "1080/1080 [==============================] - 26s 24ms/step - loss: 0.0809 - accuracy: 0.9748 - precision: 0.9747 - recall: 0.9749\n",
      "Epoch 7/500\n",
      "1080/1080 [==============================] - 26s 24ms/step - loss: 0.0801 - accuracy: 0.9761 - precision: 0.9762 - recall: 0.9758\n",
      "Epoch 8/500\n",
      "1080/1080 [==============================] - 26s 24ms/step - loss: 0.0756 - accuracy: 0.9775 - precision: 0.9777 - recall: 0.9774\n",
      "Epoch 9/500\n",
      "1080/1080 [==============================] - 26s 24ms/step - loss: 0.0737 - accuracy: 0.9773 - precision: 0.9773 - recall: 0.9771\n",
      "Epoch 10/500\n",
      "1080/1080 [==============================] - 28s 26ms/step - loss: 0.0738 - accuracy: 0.9779 - precision: 0.9781 - recall: 0.9775\n",
      "Epoch 11/500\n",
      "1080/1080 [==============================] - 27s 25ms/step - loss: 0.0749 - accuracy: 0.9782 - precision: 0.9784 - recall: 0.9780\n",
      "Epoch 12/500\n",
      "1080/1080 [==============================] - 27s 25ms/step - loss: 0.0727 - accuracy: 0.9787 - precision: 0.9788 - recall: 0.9786\n",
      "Epoch 13/500\n",
      "1080/1080 [==============================] - 27s 25ms/step - loss: 0.0732 - accuracy: 0.9782 - precision: 0.9782 - recall: 0.9783\n",
      "Epoch 14/500\n",
      "1080/1080 [==============================] - 27s 25ms/step - loss: 0.0711 - accuracy: 0.9781 - precision: 0.9781 - recall: 0.9781\n",
      "Epoch 15/500\n",
      "1080/1080 [==============================] - 27s 25ms/step - loss: 0.0697 - accuracy: 0.9788 - precision: 0.9790 - recall: 0.9786\n",
      "Epoch 16/500\n",
      "1080/1080 [==============================] - 26s 24ms/step - loss: 0.0718 - accuracy: 0.9788 - precision: 0.9788 - recall: 0.9787\n",
      "Epoch 17/500\n",
      "1080/1080 [==============================] - 27s 25ms/step - loss: 0.0726 - accuracy: 0.9792 - precision: 0.9791 - recall: 0.9791\n",
      "Epoch 18/500\n",
      "1080/1080 [==============================] - 26s 24ms/step - loss: 0.0719 - accuracy: 0.9786 - precision: 0.9786 - recall: 0.9783\n",
      "Epoch 19/500\n",
      "1080/1080 [==============================] - 26s 24ms/step - loss: 0.0695 - accuracy: 0.9784 - precision: 0.9784 - recall: 0.9784\n",
      "Epoch 20/500\n",
      "1080/1080 [==============================] - 27s 25ms/step - loss: 0.0705 - accuracy: 0.9794 - precision: 0.9794 - recall: 0.9794\n",
      "Epoch 21/500\n",
      "1080/1080 [==============================] - 28s 26ms/step - loss: 0.0720 - accuracy: 0.9779 - precision: 0.9780 - recall: 0.9779\n",
      "Epoch 22/500\n",
      "1080/1080 [==============================] - 28s 26ms/step - loss: 0.0726 - accuracy: 0.9784 - precision: 0.9784 - recall: 0.9783\n",
      "Epoch 23/500\n",
      "1080/1080 [==============================] - 28s 26ms/step - loss: 0.0721 - accuracy: 0.9780 - precision: 0.9780 - recall: 0.9779\n",
      "Epoch 24/500\n",
      "1080/1080 [==============================] - 31s 29ms/step - loss: 0.0730 - accuracy: 0.9780 - precision: 0.9779 - recall: 0.9779\n",
      "Epoch 25/500\n",
      "1080/1080 [==============================] - 28s 26ms/step - loss: 0.0762 - accuracy: 0.9777 - precision: 0.9776 - recall: 0.9777\n",
      "Epoch 26/500\n",
      "1080/1080 [==============================] - 25s 23ms/step - loss: 0.0720 - accuracy: 0.9781 - precision: 0.9782 - recall: 0.9782\n",
      "Epoch 27/500\n",
      "1080/1080 [==============================] - 25s 23ms/step - loss: 0.0730 - accuracy: 0.9781 - precision: 0.9782 - recall: 0.9781\n",
      "Epoch 28/500\n",
      "1080/1080 [==============================] - 26s 24ms/step - loss: 0.0751 - accuracy: 0.9779 - precision: 0.9780 - recall: 0.9779\n",
      "Epoch 29/500\n",
      "1080/1080 [==============================] - 25s 24ms/step - loss: 0.0734 - accuracy: 0.9776 - precision: 0.9775 - recall: 0.9775\n",
      "Epoch 30/500\n",
      "1080/1080 [==============================] - 25s 23ms/step - loss: 0.0740 - accuracy: 0.9775 - precision: 0.9774 - recall: 0.9775\n",
      "Epoch 31/500\n",
      "1080/1080 [==============================] - 26s 24ms/step - loss: 0.0745 - accuracy: 0.9785 - precision: 0.9784 - recall: 0.9784\n",
      "Epoch 32/500\n",
      "1080/1080 [==============================] - 26s 24ms/step - loss: 0.0811 - accuracy: 0.9751 - precision: 0.9751 - recall: 0.9751\n",
      "Epoch 33/500\n",
      "1080/1080 [==============================] - 25s 23ms/step - loss: 0.0818 - accuracy: 0.9745 - precision: 0.9746 - recall: 0.9746\n",
      "Epoch 34/500\n",
      "1080/1080 [==============================] - 25s 24ms/step - loss: 0.0822 - accuracy: 0.9744 - precision: 0.9744 - recall: 0.9745\n",
      "Epoch 35/500\n",
      "1080/1080 [==============================] - 26s 24ms/step - loss: 0.0775 - accuracy: 0.9758 - precision: 0.9758 - recall: 0.9756\n",
      "Epoch 36/500\n",
      "1080/1080 [==============================] - 26s 24ms/step - loss: 0.0839 - accuracy: 0.9747 - precision: 0.9747 - recall: 0.9750\n",
      "Epoch 37/500\n",
      "1080/1080 [==============================] - 26s 24ms/step - loss: 0.0829 - accuracy: 0.9760 - precision: 0.9759 - recall: 0.9760\n",
      "Epoch 38/500\n",
      "1080/1080 [==============================] - 25s 23ms/step - loss: 0.0851 - accuracy: 0.9741 - precision: 0.9741 - recall: 0.9741\n",
      "Epoch 39/500\n",
      "1080/1080 [==============================] - 25s 23ms/step - loss: 0.0875 - accuracy: 0.9746 - precision: 0.9747 - recall: 0.9746\n",
      "Epoch 40/500\n",
      "1080/1080 [==============================] - 25s 23ms/step - loss: 0.0843 - accuracy: 0.9751 - precision: 0.9752 - recall: 0.9751\n",
      "Epoch 41/500\n",
      "1080/1080 [==============================] - 25s 23ms/step - loss: 0.0933 - accuracy: 0.9756 - precision: 0.9755 - recall: 0.9756\n",
      "Epoch 42/500\n",
      "1080/1080 [==============================] - 25s 23ms/step - loss: 0.0819 - accuracy: 0.9748 - precision: 0.9749 - recall: 0.9746\n",
      "Epoch 43/500\n",
      "1080/1080 [==============================] - 25s 23ms/step - loss: 0.0868 - accuracy: 0.9749 - precision: 0.9748 - recall: 0.9749\n",
      "Epoch 44/500\n",
      "1080/1080 [==============================] - 25s 23ms/step - loss: 0.0817 - accuracy: 0.9761 - precision: 0.9761 - recall: 0.9762\n",
      "Epoch 45/500\n",
      "1080/1080 [==============================] - 25s 23ms/step - loss: 0.0826 - accuracy: 0.9754 - precision: 0.9752 - recall: 0.9754\n",
      "Epoch 46/500\n",
      "1080/1080 [==============================] - 25s 23ms/step - loss: 0.0841 - accuracy: 0.9749 - precision: 0.9750 - recall: 0.9750\n",
      "Epoch 47/500\n",
      "1080/1080 [==============================] - 25s 24ms/step - loss: 0.0889 - accuracy: 0.9752 - precision: 0.9751 - recall: 0.9752\n",
      "Epoch 48/500\n",
      "1080/1080 [==============================] - 25s 23ms/step - loss: 0.0818 - accuracy: 0.9746 - precision: 0.9746 - recall: 0.9746\n",
      "Epoch 49/500\n",
      "1080/1080 [==============================] - 25s 24ms/step - loss: 0.0875 - accuracy: 0.9738 - precision: 0.9737 - recall: 0.9739\n",
      "Epoch 50/500\n",
      "1080/1080 [==============================] - 25s 24ms/step - loss: 0.0834 - accuracy: 0.9744 - precision: 0.9744 - recall: 0.9744\n",
      "Epoch 51/500\n",
      "1080/1080 [==============================] - 26s 24ms/step - loss: 0.0796 - accuracy: 0.9753 - precision: 0.9754 - recall: 0.9754\n",
      "Epoch 52/500\n",
      "1080/1080 [==============================] - 26s 24ms/step - loss: 0.0864 - accuracy: 0.9738 - precision: 0.9738 - recall: 0.9739\n",
      "Epoch 53/500\n",
      "1080/1080 [==============================] - 25s 24ms/step - loss: 0.0846 - accuracy: 0.9750 - precision: 0.9748 - recall: 0.9750\n",
      "Epoch 54/500\n",
      "1080/1080 [==============================] - 26s 24ms/step - loss: 0.0836 - accuracy: 0.9747 - precision: 0.9747 - recall: 0.9747\n",
      "Epoch 55/500\n",
      "1080/1080 [==============================] - 26s 24ms/step - loss: 0.0814 - accuracy: 0.9756 - precision: 0.9755 - recall: 0.9756\n",
      "Epoch 56/500\n",
      "1080/1080 [==============================] - 26s 24ms/step - loss: 0.0803 - accuracy: 0.9754 - precision: 0.9754 - recall: 0.9754\n",
      "Epoch 57/500\n",
      "1080/1080 [==============================] - 26s 24ms/step - loss: 0.0785 - accuracy: 0.9756 - precision: 0.9756 - recall: 0.9756\n",
      "Epoch 58/500\n",
      "1080/1080 [==============================] - 26s 24ms/step - loss: 0.0812 - accuracy: 0.9762 - precision: 0.9761 - recall: 0.9762\n",
      "Epoch 59/500\n",
      "1080/1080 [==============================] - 26s 24ms/step - loss: 0.0844 - accuracy: 0.9750 - precision: 0.9747 - recall: 0.9750\n",
      "Epoch 60/500\n",
      "1080/1080 [==============================] - 27s 25ms/step - loss: 0.0808 - accuracy: 0.9762 - precision: 0.9762 - recall: 0.9764\n",
      "Epoch 61/500\n",
      "1080/1080 [==============================] - 27s 25ms/step - loss: 0.0828 - accuracy: 0.9759 - precision: 0.9759 - recall: 0.9760\n",
      "Epoch 62/500\n",
      "1080/1080 [==============================] - 26s 24ms/step - loss: 0.0839 - accuracy: 0.9756 - precision: 0.9756 - recall: 0.9755\n",
      "Epoch 63/500\n",
      "1080/1080 [==============================] - 25s 23ms/step - loss: 0.0802 - accuracy: 0.9765 - precision: 0.9764 - recall: 0.9764\n",
      "Epoch 64/500\n",
      "1080/1080 [==============================] - 25s 24ms/step - loss: 0.0850 - accuracy: 0.9747 - precision: 0.9747 - recall: 0.9747\n",
      "Epoch 65/500\n",
      "1080/1080 [==============================] - 26s 24ms/step - loss: 0.0880 - accuracy: 0.9747 - precision: 0.9747 - recall: 0.9747\n",
      "Epoch 66/500\n",
      "1080/1080 [==============================] - 26s 24ms/step - loss: 0.0932 - accuracy: 0.9744 - precision: 0.9744 - recall: 0.9743\n",
      "Epoch 67/500\n",
      "1080/1080 [==============================] - 26s 24ms/step - loss: 0.0847 - accuracy: 0.9750 - precision: 0.9751 - recall: 0.9749\n",
      "Epoch 68/500\n",
      "1080/1080 [==============================] - 26s 24ms/step - loss: 0.0839 - accuracy: 0.9747 - precision: 0.9747 - recall: 0.9748\n",
      "Epoch 69/500\n",
      "1080/1080 [==============================] - 26s 24ms/step - loss: 0.0871 - accuracy: 0.9750 - precision: 0.9749 - recall: 0.9750\n",
      "Epoch 70/500\n",
      "1080/1080 [==============================] - 26s 24ms/step - loss: 0.0801 - accuracy: 0.9755 - precision: 0.9755 - recall: 0.9756\n",
      "Epoch 71/500\n",
      "1080/1080 [==============================] - 25s 23ms/step - loss: 0.0887 - accuracy: 0.9762 - precision: 0.9761 - recall: 0.9762\n",
      "Epoch 72/500\n",
      "1080/1080 [==============================] - 25s 23ms/step - loss: 0.0788 - accuracy: 0.9762 - precision: 0.9762 - recall: 0.9762\n",
      "Epoch 73/500\n",
      "1080/1080 [==============================] - 26s 24ms/step - loss: 0.0806 - accuracy: 0.9754 - precision: 0.9754 - recall: 0.9755\n",
      "Epoch 74/500\n",
      "1080/1080 [==============================] - 26s 24ms/step - loss: 0.0809 - accuracy: 0.9766 - precision: 0.9766 - recall: 0.9766\n",
      "Epoch 75/500\n",
      "1080/1080 [==============================] - 25s 24ms/step - loss: 0.0867 - accuracy: 0.9752 - precision: 0.9752 - recall: 0.9752\n",
      "Epoch 76/500\n",
      "1080/1080 [==============================] - 26s 24ms/step - loss: 0.0902 - accuracy: 0.9739 - precision: 0.9739 - recall: 0.9739\n",
      "Epoch 77/500\n",
      "1080/1080 [==============================] - 26s 24ms/step - loss: 0.0897 - accuracy: 0.9740 - precision: 0.9740 - recall: 0.9740\n",
      "Epoch 78/500\n",
      "1080/1080 [==============================] - 26s 24ms/step - loss: 0.0820 - accuracy: 0.9759 - precision: 0.9759 - recall: 0.9758\n",
      "Epoch 79/500\n",
      "1080/1080 [==============================] - 26s 24ms/step - loss: 0.0850 - accuracy: 0.9752 - precision: 0.9751 - recall: 0.9752\n",
      "Epoch 80/500\n",
      "1080/1080 [==============================] - 27s 25ms/step - loss: 0.0906 - accuracy: 0.9754 - precision: 0.9754 - recall: 0.9755\n",
      "Epoch 81/500\n",
      "1080/1080 [==============================] - 26s 24ms/step - loss: 0.0859 - accuracy: 0.9752 - precision: 0.9752 - recall: 0.9752\n",
      "Epoch 82/500\n",
      "1080/1080 [==============================] - 27s 25ms/step - loss: 0.0839 - accuracy: 0.9757 - precision: 0.9757 - recall: 0.9757\n",
      "Epoch 83/500\n",
      "1080/1080 [==============================] - 26s 24ms/step - loss: 0.0870 - accuracy: 0.9751 - precision: 0.9752 - recall: 0.9752\n",
      "Epoch 84/500\n",
      "1080/1080 [==============================] - 27s 25ms/step - loss: 0.0849 - accuracy: 0.9745 - precision: 0.9745 - recall: 0.9745\n",
      "Epoch 85/500\n",
      "1080/1080 [==============================] - 27s 25ms/step - loss: 0.0838 - accuracy: 0.9749 - precision: 0.9749 - recall: 0.9749\n",
      "Epoch 86/500\n",
      "1080/1080 [==============================] - 27s 25ms/step - loss: 0.1085 - accuracy: 0.9740 - precision: 0.9740 - recall: 0.9740\n",
      "Epoch 87/500\n",
      "1080/1080 [==============================] - 26s 24ms/step - loss: 0.0862 - accuracy: 0.9756 - precision: 0.9756 - recall: 0.9756\n",
      "Epoch 88/500\n",
      "1080/1080 [==============================] - 26s 24ms/step - loss: 0.0860 - accuracy: 0.9754 - precision: 0.9754 - recall: 0.9754\n",
      "Epoch 89/500\n",
      "1080/1080 [==============================] - 27s 25ms/step - loss: 0.0884 - accuracy: 0.9745 - precision: 0.9745 - recall: 0.9745\n",
      "Epoch 90/500\n",
      "1080/1080 [==============================] - 30s 27ms/step - loss: 0.0847 - accuracy: 0.9745 - precision: 0.9745 - recall: 0.9745\n",
      "Epoch 91/500\n",
      "1080/1080 [==============================] - 27s 25ms/step - loss: 0.0840 - accuracy: 0.9749 - precision: 0.9749 - recall: 0.9749\n",
      "Epoch 92/500\n",
      "1080/1080 [==============================] - 27s 25ms/step - loss: 0.0841 - accuracy: 0.9752 - precision: 0.9752 - recall: 0.9752\n",
      "Epoch 93/500\n",
      "1080/1080 [==============================] - 26s 24ms/step - loss: 0.0890 - accuracy: 0.9747 - precision: 0.9747 - recall: 0.9748\n",
      "Epoch 94/500\n",
      "1080/1080 [==============================] - 26s 24ms/step - loss: 0.0853 - accuracy: 0.9747 - precision: 0.9746 - recall: 0.9747\n",
      "Epoch 95/500\n",
      "1080/1080 [==============================] - 26s 24ms/step - loss: 0.0908 - accuracy: 0.9739 - precision: 0.9740 - recall: 0.9739\n",
      "Epoch 96/500\n",
      "1080/1080 [==============================] - 27s 25ms/step - loss: 0.0914 - accuracy: 0.9741 - precision: 0.9741 - recall: 0.9741\n",
      "Epoch 97/500\n",
      "1080/1080 [==============================] - 26s 24ms/step - loss: 0.0854 - accuracy: 0.9742 - precision: 0.9742 - recall: 0.9742\n",
      "Epoch 98/500\n",
      "1080/1080 [==============================] - 26s 24ms/step - loss: 0.0882 - accuracy: 0.9738 - precision: 0.9738 - recall: 0.9738\n",
      "Epoch 99/500\n",
      "1080/1080 [==============================] - 26s 24ms/step - loss: 0.0899 - accuracy: 0.9745 - precision: 0.9745 - recall: 0.9745\n",
      "Epoch 100/500\n",
      "1080/1080 [==============================] - 26s 24ms/step - loss: 0.0885 - accuracy: 0.9744 - precision: 0.9745 - recall: 0.9744\n",
      "Epoch 101/500\n",
      "1080/1080 [==============================] - 26s 24ms/step - loss: 0.0836 - accuracy: 0.9744 - precision: 0.9744 - recall: 0.9745\n",
      "Epoch 102/500\n",
      "1080/1080 [==============================] - 26s 24ms/step - loss: 0.0995 - accuracy: 0.9723 - precision: 0.9723 - recall: 0.9723\n",
      "Epoch 103/500\n",
      "1080/1080 [==============================] - 26s 24ms/step - loss: 0.1008 - accuracy: 0.9710 - precision: 0.9711 - recall: 0.9710\n",
      "Epoch 104/500\n",
      "1080/1080 [==============================] - 26s 24ms/step - loss: 0.0961 - accuracy: 0.9712 - precision: 0.9712 - recall: 0.9712\n",
      "Epoch 105/500\n",
      "1080/1080 [==============================] - 26s 24ms/step - loss: 0.0926 - accuracy: 0.9719 - precision: 0.9720 - recall: 0.9719\n",
      "Epoch 106/500\n",
      "1080/1080 [==============================] - 26s 24ms/step - loss: 0.0967 - accuracy: 0.9720 - precision: 0.9720 - recall: 0.9720\n",
      "Epoch 107/500\n",
      "1080/1080 [==============================] - 25s 23ms/step - loss: 0.1032 - accuracy: 0.9709 - precision: 0.9708 - recall: 0.9709\n",
      "Epoch 108/500\n",
      "1080/1080 [==============================] - 25s 24ms/step - loss: 0.0987 - accuracy: 0.9714 - precision: 0.9714 - recall: 0.9714\n",
      "Epoch 109/500\n",
      "1080/1080 [==============================] - 25s 23ms/step - loss: 0.1039 - accuracy: 0.9711 - precision: 0.9711 - recall: 0.9711\n",
      "Epoch 110/500\n",
      "1080/1080 [==============================] - 25s 23ms/step - loss: 0.0982 - accuracy: 0.9711 - precision: 0.9711 - recall: 0.9711\n",
      "Epoch 111/500\n",
      "1080/1080 [==============================] - 25s 23ms/step - loss: 0.0989 - accuracy: 0.9704 - precision: 0.9703 - recall: 0.9704\n",
      "Epoch 112/500\n",
      "1080/1080 [==============================] - 25s 23ms/step - loss: 0.0976 - accuracy: 0.9710 - precision: 0.9711 - recall: 0.9710\n",
      "Epoch 113/500\n",
      "1080/1080 [==============================] - 25s 23ms/step - loss: 0.0958 - accuracy: 0.9705 - precision: 0.9705 - recall: 0.9705\n",
      "Epoch 114/500\n",
      "1080/1080 [==============================] - 25s 23ms/step - loss: 0.1086 - accuracy: 0.9713 - precision: 0.9713 - recall: 0.9712\n",
      "Epoch 115/500\n",
      "1080/1080 [==============================] - 25s 23ms/step - loss: 0.0945 - accuracy: 0.9713 - precision: 0.9713 - recall: 0.9712\n",
      "Epoch 116/500\n",
      "1080/1080 [==============================] - 25s 23ms/step - loss: 0.1000 - accuracy: 0.9710 - precision: 0.9711 - recall: 0.9710\n",
      "Epoch 117/500\n",
      "1080/1080 [==============================] - 26s 24ms/step - loss: 0.0923 - accuracy: 0.9706 - precision: 0.9707 - recall: 0.9706\n",
      "Epoch 118/500\n",
      "1080/1080 [==============================] - 25s 23ms/step - loss: 0.0946 - accuracy: 0.9706 - precision: 0.9706 - recall: 0.9706\n",
      "Epoch 119/500\n",
      "1080/1080 [==============================] - 25s 23ms/step - loss: 0.0957 - accuracy: 0.9711 - precision: 0.9711 - recall: 0.9711\n"
     ]
    }
   ],
   "source": [
    "# for smart_os, signals in SMARTWATCH_OS.items():\n",
    "train(\"E4\", SIGNALS, all_subjects_X, all_subjects_y, DataType.CGAN, num_epochs = 500, with_loso=False)"
   ]
  },
  {
   "attachments": {},
   "cell_type": "markdown",
   "metadata": {},
   "source": [
    "## <a id='toc1_4_'></a>[Evaluation](#toc0_)"
   ]
  },
  {
   "attachments": {},
   "cell_type": "markdown",
   "metadata": {},
   "source": [
    "Evaluating every models on the corresponding test dataset not seen during training."
   ]
  },
  {
   "cell_type": "code",
   "execution_count": 46,
   "metadata": {},
   "outputs": [
    {
     "name": "stdout",
     "output_type": "stream",
     "text": [
      "E4_CGAN\n",
      "*** Evaluate using 'Leave One Subject Out'-Method ***\n"
     ]
    },
    {
     "name": "stderr",
     "output_type": "stream",
     "text": [
      "2023-06-06 11:30:14.999986: I tensorflow/core/grappler/optimizers/custom_graph_optimizer_registry.cc:114] Plugin optimizer for device_type GPU is enabled.\n"
     ]
    },
    {
     "name": "stdout",
     "output_type": "stream",
     "text": [
      "*** Evaluate using 'Leave One Subject Out'-Method ***\n"
     ]
    },
    {
     "name": "stderr",
     "output_type": "stream",
     "text": [
      "2023-06-06 11:30:16.101617: I tensorflow/core/grappler/optimizers/custom_graph_optimizer_registry.cc:114] Plugin optimizer for device_type GPU is enabled.\n"
     ]
    },
    {
     "name": "stdout",
     "output_type": "stream",
     "text": [
      "*** Evaluate using 'Leave One Subject Out'-Method ***\n"
     ]
    },
    {
     "name": "stderr",
     "output_type": "stream",
     "text": [
      "2023-06-06 11:30:16.987727: I tensorflow/core/grappler/optimizers/custom_graph_optimizer_registry.cc:114] Plugin optimizer for device_type GPU is enabled.\n"
     ]
    },
    {
     "name": "stdout",
     "output_type": "stream",
     "text": [
      "*** Evaluate using 'Leave One Subject Out'-Method ***\n"
     ]
    },
    {
     "name": "stderr",
     "output_type": "stream",
     "text": [
      "2023-06-06 11:30:17.822918: I tensorflow/core/grappler/optimizers/custom_graph_optimizer_registry.cc:114] Plugin optimizer for device_type GPU is enabled.\n"
     ]
    },
    {
     "name": "stdout",
     "output_type": "stream",
     "text": [
      "*** Evaluate using 'Leave One Subject Out'-Method ***\n"
     ]
    },
    {
     "name": "stderr",
     "output_type": "stream",
     "text": [
      "2023-06-06 11:30:18.699197: I tensorflow/core/grappler/optimizers/custom_graph_optimizer_registry.cc:114] Plugin optimizer for device_type GPU is enabled.\n"
     ]
    },
    {
     "name": "stdout",
     "output_type": "stream",
     "text": [
      "*** Evaluate using 'Leave One Subject Out'-Method ***\n"
     ]
    },
    {
     "name": "stderr",
     "output_type": "stream",
     "text": [
      "2023-06-06 11:30:20.241250: I tensorflow/core/grappler/optimizers/custom_graph_optimizer_registry.cc:114] Plugin optimizer for device_type GPU is enabled.\n"
     ]
    },
    {
     "name": "stdout",
     "output_type": "stream",
     "text": [
      "*** Evaluate using 'Leave One Subject Out'-Method ***\n"
     ]
    },
    {
     "name": "stderr",
     "output_type": "stream",
     "text": [
      "2023-06-06 11:30:21.087978: I tensorflow/core/grappler/optimizers/custom_graph_optimizer_registry.cc:114] Plugin optimizer for device_type GPU is enabled.\n"
     ]
    },
    {
     "name": "stdout",
     "output_type": "stream",
     "text": [
      "*** Evaluate using 'Leave One Subject Out'-Method ***\n"
     ]
    },
    {
     "name": "stderr",
     "output_type": "stream",
     "text": [
      "2023-06-06 11:30:21.888541: I tensorflow/core/grappler/optimizers/custom_graph_optimizer_registry.cc:114] Plugin optimizer for device_type GPU is enabled.\n"
     ]
    },
    {
     "name": "stdout",
     "output_type": "stream",
     "text": [
      "*** Evaluate using 'Leave One Subject Out'-Method ***\n"
     ]
    },
    {
     "name": "stderr",
     "output_type": "stream",
     "text": [
      "2023-06-06 11:30:22.700019: I tensorflow/core/grappler/optimizers/custom_graph_optimizer_registry.cc:114] Plugin optimizer for device_type GPU is enabled.\n"
     ]
    },
    {
     "name": "stdout",
     "output_type": "stream",
     "text": [
      "*** Evaluate using 'Leave One Subject Out'-Method ***\n"
     ]
    },
    {
     "name": "stderr",
     "output_type": "stream",
     "text": [
      "2023-06-06 11:30:23.508052: I tensorflow/core/grappler/optimizers/custom_graph_optimizer_registry.cc:114] Plugin optimizer for device_type GPU is enabled.\n"
     ]
    },
    {
     "name": "stdout",
     "output_type": "stream",
     "text": [
      "*** Evaluate using 'Leave One Subject Out'-Method ***\n"
     ]
    },
    {
     "name": "stderr",
     "output_type": "stream",
     "text": [
      "2023-06-06 11:30:24.330753: I tensorflow/core/grappler/optimizers/custom_graph_optimizer_registry.cc:114] Plugin optimizer for device_type GPU is enabled.\n"
     ]
    },
    {
     "name": "stdout",
     "output_type": "stream",
     "text": [
      "*** Evaluate using 'Leave One Subject Out'-Method ***\n"
     ]
    },
    {
     "name": "stderr",
     "output_type": "stream",
     "text": [
      "2023-06-06 11:30:25.120458: I tensorflow/core/grappler/optimizers/custom_graph_optimizer_registry.cc:114] Plugin optimizer for device_type GPU is enabled.\n"
     ]
    },
    {
     "name": "stdout",
     "output_type": "stream",
     "text": [
      "*** Evaluate using 'Leave One Subject Out'-Method ***\n"
     ]
    },
    {
     "name": "stderr",
     "output_type": "stream",
     "text": [
      "2023-06-06 11:30:25.940767: I tensorflow/core/grappler/optimizers/custom_graph_optimizer_registry.cc:114] Plugin optimizer for device_type GPU is enabled.\n"
     ]
    },
    {
     "name": "stdout",
     "output_type": "stream",
     "text": [
      "*** Evaluate using 'Leave One Subject Out'-Method ***\n"
     ]
    },
    {
     "name": "stderr",
     "output_type": "stream",
     "text": [
      "2023-06-06 11:30:26.805511: I tensorflow/core/grappler/optimizers/custom_graph_optimizer_registry.cc:114] Plugin optimizer for device_type GPU is enabled.\n"
     ]
    },
    {
     "name": "stdout",
     "output_type": "stream",
     "text": [
      "*** Evaluate using 'Leave One Subject Out'-Method ***\n"
     ]
    },
    {
     "name": "stderr",
     "output_type": "stream",
     "text": [
      "2023-06-06 11:30:27.924179: I tensorflow/core/grappler/optimizers/custom_graph_optimizer_registry.cc:114] Plugin optimizer for device_type GPU is enabled.\n"
     ]
    },
    {
     "name": "stdout",
     "output_type": "stream",
     "text": [
      "Smartwatch OS: E4_CGAN\n",
      "Evaluation of CNN model trained on 1000 epochs\n",
      "\n",
      "Subject\t\t Accuracy\tPrecision\tRecall\t\tF1-Score\n",
      "************************************************************************\n",
      "S2\t\t 0.97059\t0.97059\t\t0.97059\t\t0.97059\n",
      "S3\t\t 0.76471\t0.76471\t\t0.76471\t\t0.76471\n",
      "S4\t\t 1.00000\t1.00000\t\t1.00000\t\t1.00000\n",
      "S5\t\t 0.97143\t0.97143\t\t0.97143\t\t0.97143\n",
      "S6\t\t 0.97143\t0.97143\t\t0.97143\t\t0.97143\n",
      "S7\t\t 0.77143\t0.77143\t\t0.77143\t\t0.77143\n",
      "S8\t\t 0.94286\t0.94286\t\t0.94286\t\t0.94286\n",
      "S9\t\t 0.97143\t0.97143\t\t0.97143\t\t0.97143\n",
      "S10\t\t 0.94444\t0.94444\t\t0.94444\t\t0.94444\n",
      "S11\t\t 0.88889\t0.88889\t\t0.88889\t\t0.88889\n",
      "S13\t\t 0.97222\t0.97222\t\t0.97222\t\t0.97222\n",
      "S14\t\t 0.69444\t0.69444\t\t0.69444\t\t0.69444\n",
      "S15\t\t 0.94444\t0.94444\t\t0.94444\t\t0.94444\n",
      "S16\t\t 1.00000\t1.00000\t\t1.00000\t\t1.00000\n",
      "S17\t\t 0.63889\t0.63889\t\t0.63889\t\t0.63889\n",
      "************************************************************************\n",
      "Average\t\t 0.89648\t0.89648\t\t0.89648\t\t0.89648\n",
      "\n",
      "\n",
      "\n"
     ]
    }
   ],
   "source": [
    "# CGAN DATASET size 53999\n",
    "num_epochs = 1000\n",
    "# Evaluating every models on the corresponding test dataset not seen during training.\n",
    "os_scores_acc = {}\n",
    "os_scores_f1 = {}\n",
    "for smart_os, signals in SMARTWATCH_OS.items():\n",
    "    if  smart_os == \"E4_CGAN\":\n",
    "        print(smart_os)\n",
    "        evaluate(os_scores_acc, os_scores_f1, smart_os, signals, all_subjects_X, all_subjects_y, DataType.CGAN, num_epochs=num_epochs, with_loso=True)"
   ]
  },
  {
   "cell_type": "code",
   "execution_count": 35,
   "metadata": {},
   "outputs": [
    {
     "name": "stdout",
     "output_type": "stream",
     "text": [
      "E4_CGAN\n",
      "*** Train on Synth, test on Real ***\n",
      "DATATYPE: DataType.CGAN\n",
      "LOADED: models/stress_detector/tstr/syn/cgan/1000/wesad.h5\n"
     ]
    },
    {
     "name": "stderr",
     "output_type": "stream",
     "text": [
      "2023-06-06 10:24:13.738779: I tensorflow/core/grappler/optimizers/custom_graph_optimizer_registry.cc:114] Plugin optimizer for device_type GPU is enabled.\n"
     ]
    },
    {
     "name": "stdout",
     "output_type": "stream",
     "text": [
      "Smartwatch OS: E4_CGAN\n",
      "Evaluation of CNN model trained on 1000 epochs\n",
      "\n",
      "Subject\t\t Accuracy\tPrecision\tRecall\t\tF1-Score\n",
      "************************************************************************\n",
      "S2\t\t 0.97059\t0.97059\t\t0.97059\t\t0.97059\n",
      "S3\t\t 0.76471\t0.75758\t\t0.73529\t\t0.74627\n",
      "S4\t\t 0.94286\t0.94286\t\t0.94286\t\t0.94286\n",
      "S5\t\t 0.85714\t0.85714\t\t0.85714\t\t0.85714\n",
      "S6\t\t 0.91429\t0.91176\t\t0.88571\t\t0.89855\n",
      "S7\t\t 0.57143\t0.57143\t\t0.57143\t\t0.57143\n",
      "S8\t\t 0.91429\t0.88889\t\t0.91429\t\t0.90141\n",
      "S9\t\t 0.97143\t0.97059\t\t0.94286\t\t0.95652\n",
      "S10\t\t 0.97222\t0.97222\t\t0.97222\t\t0.97222\n",
      "S11\t\t 0.77778\t0.77778\t\t0.77778\t\t0.77778\n",
      "S13\t\t 0.86111\t0.88571\t\t0.86111\t\t0.87324\n",
      "S14\t\t 0.50000\t0.50000\t\t0.47222\t\t0.48571\n",
      "S15\t\t 0.83333\t0.84211\t\t0.88889\t\t0.86486\n",
      "S16\t\t 0.97222\t0.97222\t\t0.97222\t\t0.97222\n",
      "S17\t\t 0.52778\t0.51351\t\t0.52778\t\t0.52055\n",
      "************************************************************************\n",
      "Average\t\t 0.82341\t0.82229\t\t0.81949\t\t0.82076\n",
      "\n",
      "\n",
      "\n"
     ]
    }
   ],
   "source": [
    "# CGAN DATASET size 53999\n",
    "num_epochs = 1000\n",
    "# Evaluating every models on the corresponding test dataset not seen during training.\n",
    "os_scores_acc = {}\n",
    "os_scores_f1 = {}\n",
    "for smart_os, signals in SMARTWATCH_OS.items():\n",
    "    if  smart_os == \"E4_CGAN\":\n",
    "        print(smart_os)\n",
    "        evaluate(os_scores_acc, os_scores_f1, smart_os, signals, all_subjects_X, all_subjects_y, DataType.CGAN, num_epochs=num_epochs, with_loso=False)"
   ]
  },
  {
   "cell_type": "code",
   "execution_count": 12,
   "metadata": {},
   "outputs": [
    {
     "name": "stdout",
     "output_type": "stream",
     "text": [
      "E4_CGAN\n",
      "*** Train on Synth, test on Real ***\n",
      "DATATYPE: DataType.CGAN\n",
      "LOADED: models/stress_detector/tstr/syn/cgan/1000/wesad.h5\n"
     ]
    },
    {
     "name": "stderr",
     "output_type": "stream",
     "text": [
      "2023-06-06 15:55:54.521262: I tensorflow/core/grappler/optimizers/custom_graph_optimizer_registry.cc:114] Plugin optimizer for device_type GPU is enabled.\n"
     ]
    },
    {
     "name": "stdout",
     "output_type": "stream",
     "text": [
      "Smartwatch OS: E4_CGAN\n",
      "Evaluation of CNN model trained on 1000 epochs\n",
      "\n",
      "Subject\t\t Accuracy\tPrecision\tRecall\t\tF1-Score\n",
      "************************************************************************\n",
      "S2\t\t 0.97059\t0.97059\t\t0.97059\t\t0.97059\n",
      "S3\t\t 0.76471\t0.75758\t\t0.73529\t\t0.74627\n",
      "S4\t\t 0.94286\t0.94286\t\t0.94286\t\t0.94286\n",
      "S5\t\t 0.85714\t0.85714\t\t0.85714\t\t0.85714\n",
      "S6\t\t 0.91429\t0.91176\t\t0.88571\t\t0.89855\n",
      "S7\t\t 0.57143\t0.57143\t\t0.57143\t\t0.57143\n",
      "S8\t\t 0.91429\t0.88889\t\t0.91429\t\t0.90141\n",
      "S9\t\t 0.97143\t0.97059\t\t0.94286\t\t0.95652\n",
      "S10\t\t 0.97222\t0.97222\t\t0.97222\t\t0.97222\n",
      "S11\t\t 0.77778\t0.77778\t\t0.77778\t\t0.77778\n",
      "S13\t\t 0.86111\t0.88571\t\t0.86111\t\t0.87324\n",
      "S14\t\t 0.50000\t0.50000\t\t0.47222\t\t0.48571\n",
      "S15\t\t 0.83333\t0.84211\t\t0.88889\t\t0.86486\n",
      "S16\t\t 0.97222\t0.97222\t\t0.97222\t\t0.97222\n",
      "S17\t\t 0.52778\t0.51351\t\t0.52778\t\t0.52055\n",
      "************************************************************************\n",
      "Average\t\t 0.82341\t0.82229\t\t0.81949\t\t0.82076\n",
      "\n",
      "\n",
      "\n"
     ]
    }
   ],
   "source": [
    "# CGAN DATASET size 53999\n",
    "num_epochs = 1000\n",
    "# Evaluating every models on the corresponding test dataset not seen during training.\n",
    "os_scores_acc = {}\n",
    "os_scores_f1 = {}\n",
    "for smart_os, signals in constants.SMARTWATCH_OS.items():\n",
    "    if  smart_os == \"E4_CGAN\":\n",
    "        print(smart_os)\n",
    "        evaluate(os_scores_acc, os_scores_f1, smart_os, signals, all_subjects_X, all_subjects_y, DataType.CGAN, num_epochs=num_epochs, with_loso=False)"
   ]
  },
  {
   "cell_type": "code",
   "execution_count": 136,
   "metadata": {},
   "outputs": [
    {
     "name": "stdout",
     "output_type": "stream",
     "text": [
      "E4_CGAN\n",
      "*** Train on Synth, test on Real ***\n",
      "DATATYPE: DataType.CGAN\n",
      "LOADED: models/stress_detector/tstr/syn/cgan/1000/wesad.h5\n"
     ]
    },
    {
     "name": "stderr",
     "output_type": "stream",
     "text": [
      "2023-06-06 10:17:19.900908: I tensorflow/core/grappler/optimizers/custom_graph_optimizer_registry.cc:114] Plugin optimizer for device_type GPU is enabled.\n"
     ]
    },
    {
     "name": "stdout",
     "output_type": "stream",
     "text": [
      "Smartwatch OS: E4_CGAN\n",
      "Evaluation of CNN model trained on 1000 epochs\n",
      "\n",
      "Subject\t\t Accuracy\tPrecision\tRecall\t\tF1-Score\n",
      "************************************************************************\n",
      "S2\t\t 0.97059\t0.97059\t\t0.97059\t\t0.97059\n",
      "S3\t\t 0.55882\t0.54286\t\t0.55882\t\t0.55072\n",
      "S4\t\t 0.97143\t0.97143\t\t0.97143\t\t0.97143\n",
      "S5\t\t 0.88571\t0.88571\t\t0.88571\t\t0.88571\n",
      "S6\t\t 0.82857\t0.76316\t\t0.82857\t\t0.79452\n",
      "S7\t\t 0.82857\t0.83333\t\t0.85714\t\t0.84507\n",
      "S8\t\t 0.80000\t0.80000\t\t0.80000\t\t0.80000\n",
      "S9\t\t 0.94286\t0.94286\t\t0.94286\t\t0.94286\n",
      "S10\t\t 0.97222\t0.97222\t\t0.97222\t\t0.97222\n",
      "S11\t\t 0.66667\t0.67568\t\t0.69444\t\t0.68493\n",
      "S13\t\t 0.91667\t0.91667\t\t0.91667\t\t0.91667\n",
      "S14\t\t 0.66667\t0.68571\t\t0.66667\t\t0.67606\n",
      "S15\t\t 0.75000\t0.75000\t\t0.75000\t\t0.75000\n",
      "S16\t\t 0.97222\t0.97222\t\t0.97222\t\t0.97222\n",
      "S17\t\t 0.88889\t0.89189\t\t0.91667\t\t0.90411\n",
      "************************************************************************\n",
      "Average\t\t 0.84133\t0.83829\t\t0.84693\t\t0.84247\n",
      "\n",
      "\n",
      "\n"
     ]
    }
   ],
   "source": [
    "# CGAN DATASET size 53999\n",
    "num_epochs = 1000\n",
    "# Evaluating every models on the corresponding test dataset not seen during training.\n",
    "os_scores_acc = {}\n",
    "os_scores_f1 = {}\n",
    "for smart_os, signals in SMARTWATCH_OS.items():\n",
    "    if  smart_os == \"E4_CGAN\":\n",
    "        print(smart_os)\n",
    "        evaluate(os_scores_acc, os_scores_f1, smart_os, signals, all_subjects_X, all_subjects_y, DataType.CGAN, num_epochs=num_epochs, with_loso=False)"
   ]
  },
  {
   "cell_type": "code",
   "execution_count": 130,
   "metadata": {},
   "outputs": [
    {
     "name": "stdout",
     "output_type": "stream",
     "text": [
      "E4_CGAN\n",
      "*** Train on Synth, test on Real ***\n",
      "DATATYPE: DataType.CGAN\n",
      "LOADED: models/stress_detector/tstr/syn/cgan/1000/wesad.h5\n"
     ]
    },
    {
     "name": "stderr",
     "output_type": "stream",
     "text": [
      "2023-06-06 10:13:24.341642: I tensorflow/core/grappler/optimizers/custom_graph_optimizer_registry.cc:114] Plugin optimizer for device_type GPU is enabled.\n"
     ]
    },
    {
     "name": "stdout",
     "output_type": "stream",
     "text": [
      "Smartwatch OS: E4_CGAN\n",
      "Evaluation of CNN model trained on 1000 epochs\n",
      "\n",
      "Subject\t\t Accuracy\tPrecision\tRecall\t\tF1-Score\n",
      "************************************************************************\n",
      "S2\t\t 0.91176\t0.91176\t\t0.91176\t\t0.91176\n",
      "S3\t\t 0.58824\t0.58824\t\t0.58824\t\t0.58824\n",
      "S4\t\t 0.88571\t0.88571\t\t0.88571\t\t0.88571\n",
      "S5\t\t 0.77143\t0.77143\t\t0.77143\t\t0.77143\n",
      "S6\t\t 0.88571\t0.88571\t\t0.88571\t\t0.88571\n",
      "S7\t\t 0.82857\t0.82857\t\t0.82857\t\t0.82857\n",
      "S8\t\t 0.77143\t0.77143\t\t0.77143\t\t0.77143\n",
      "S9\t\t 0.91429\t0.91429\t\t0.91429\t\t0.91429\n",
      "S10\t\t 0.97222\t0.97222\t\t0.97222\t\t0.97222\n",
      "S11\t\t 0.75000\t0.75000\t\t0.75000\t\t0.75000\n",
      "S13\t\t 0.88889\t0.88889\t\t0.88889\t\t0.88889\n",
      "S14\t\t 0.63889\t0.63889\t\t0.63889\t\t0.63889\n",
      "S15\t\t 0.69444\t0.69444\t\t0.69444\t\t0.69444\n",
      "S16\t\t 0.88889\t0.88889\t\t0.88889\t\t0.88889\n",
      "S17\t\t 0.75000\t0.75000\t\t0.75000\t\t0.75000\n",
      "************************************************************************\n",
      "Average\t\t 0.80937\t0.80937\t\t0.80937\t\t0.80937\n",
      "\n",
      "\n",
      "\n"
     ]
    }
   ],
   "source": [
    "# CGAN DATASET size 53999\n",
    "num_epochs = 1000\n",
    "# Evaluating every models on the corresponding test dataset not seen during training.\n",
    "os_scores_acc = {}\n",
    "os_scores_f1 = {}\n",
    "for smart_os, signals in SMARTWATCH_OS.items():\n",
    "    if  smart_os == \"E4_CGAN\":\n",
    "        print(smart_os)\n",
    "        evaluate(os_scores_acc, os_scores_f1, smart_os, signals, all_subjects_X, all_subjects_y, DataType.CGAN, num_epochs=num_epochs, with_loso=False)"
   ]
  },
  {
   "cell_type": "code",
   "execution_count": 76,
   "metadata": {},
   "outputs": [
    {
     "name": "stdout",
     "output_type": "stream",
     "text": [
      "E4_CGAN\n",
      "*** Train on Synth, test on Real ***\n",
      "DATATYPE: DataType.CGAN\n",
      "LOADED: models/stress_detector/tstr/syn/cgan/1000/wesad.h5\n"
     ]
    },
    {
     "name": "stderr",
     "output_type": "stream",
     "text": [
      "2023-06-06 09:50:44.491354: I tensorflow/core/grappler/optimizers/custom_graph_optimizer_registry.cc:114] Plugin optimizer for device_type GPU is enabled.\n"
     ]
    },
    {
     "name": "stdout",
     "output_type": "stream",
     "text": [
      "Smartwatch OS: E4_CGAN\n",
      "Evaluation of CNN model trained on 1000 epochs\n",
      "\n",
      "Subject\t\t Accuracy\tPrecision\tRecall\t\tF1-Score\n",
      "************************************************************************\n",
      "S2\t\t 0.85294\t0.85294\t\t0.85294\t\t0.85294\n",
      "S3\t\t 0.73529\t0.73529\t\t0.73529\t\t0.73529\n",
      "S4\t\t 0.97143\t0.94444\t\t0.97143\t\t0.95775\n",
      "S5\t\t 0.82857\t0.82857\t\t0.82857\t\t0.82857\n",
      "S6\t\t 0.77143\t0.77143\t\t0.77143\t\t0.77143\n",
      "S7\t\t 0.91429\t0.91429\t\t0.91429\t\t0.91429\n",
      "S8\t\t 0.82857\t0.82857\t\t0.82857\t\t0.82857\n",
      "S9\t\t 0.91429\t0.91429\t\t0.91429\t\t0.91429\n",
      "S10\t\t 0.97222\t0.97222\t\t0.97222\t\t0.97222\n",
      "S11\t\t 0.83333\t0.83333\t\t0.83333\t\t0.83333\n",
      "S13\t\t 0.83333\t0.83333\t\t0.83333\t\t0.83333\n",
      "S14\t\t 0.55556\t0.54054\t\t0.55556\t\t0.54795\n",
      "S15\t\t 0.69444\t0.69444\t\t0.69444\t\t0.69444\n",
      "S16\t\t 0.94444\t0.94444\t\t0.94444\t\t0.94444\n",
      "S17\t\t 0.80556\t0.80556\t\t0.80556\t\t0.80556\n",
      "************************************************************************\n",
      "Average\t\t 0.83038\t0.82758\t\t0.83038\t\t0.82896\n",
      "\n",
      "\n",
      "\n"
     ]
    }
   ],
   "source": [
    "# CGAN DATASET size 53999\n",
    "num_epochs = 1000\n",
    "# Evaluating every models on the corresponding test dataset not seen during training.\n",
    "os_scores_acc = {}\n",
    "os_scores_f1 = {}\n",
    "for smart_os, signals in SMARTWATCH_OS.items():\n",
    "    if  smart_os == \"E4_CGAN\":\n",
    "        print(smart_os)\n",
    "        evaluate(os_scores_acc, os_scores_f1, smart_os, signals, all_subjects_X, all_subjects_y, DataType.CGAN, num_epochs=num_epochs, with_loso=False)"
   ]
  },
  {
   "cell_type": "code",
   "execution_count": 180,
   "metadata": {},
   "outputs": [
    {
     "name": "stdout",
     "output_type": "stream",
     "text": [
      "E4_CGAN\n",
      "*** Train on Synth, test on Real ***\n",
      "DATATYPE: DataType.CGAN\n",
      "LOADED: models/stress_detector/tstr/syn/cgan/1000/wesad.h5\n"
     ]
    },
    {
     "name": "stderr",
     "output_type": "stream",
     "text": [
      "2023-06-04 12:27:26.720200: I tensorflow/core/grappler/optimizers/custom_graph_optimizer_registry.cc:114] Plugin optimizer for device_type GPU is enabled.\n"
     ]
    },
    {
     "name": "stdout",
     "output_type": "stream",
     "text": [
      "Smartwatch OS: E4_CGAN\n",
      "Evaluation of CNN model trained on 1000 epochs\n",
      "\n",
      "Subject\t\t Accuracy\tPrecision\tRecall\t\tF1-Score\n",
      "************************************************************************\n",
      "S2\t\t 0.97059\t0.97059\t\t0.97059\t\t0.97059\n",
      "S3\t\t 0.79412\t0.79412\t\t0.79412\t\t0.79412\n",
      "S4\t\t 1.00000\t1.00000\t\t1.00000\t\t1.00000\n",
      "S5\t\t 0.82857\t0.82857\t\t0.82857\t\t0.82857\n",
      "S6\t\t 0.88571\t0.88571\t\t0.88571\t\t0.88571\n",
      "S7\t\t 0.54286\t0.54286\t\t0.54286\t\t0.54286\n",
      "S8\t\t 0.85714\t0.85714\t\t0.85714\t\t0.85714\n",
      "S9\t\t 0.82857\t0.82857\t\t0.82857\t\t0.82857\n",
      "S10\t\t 0.94444\t0.94444\t\t0.94444\t\t0.94444\n",
      "S11\t\t 0.63889\t0.63889\t\t0.63889\t\t0.63889\n",
      "S13\t\t 0.86111\t0.86111\t\t0.86111\t\t0.86111\n",
      "S14\t\t 0.58333\t0.58333\t\t0.58333\t\t0.58333\n",
      "S15\t\t 0.75000\t0.75000\t\t0.75000\t\t0.75000\n",
      "S16\t\t 1.00000\t1.00000\t\t1.00000\t\t1.00000\n",
      "S17\t\t 0.55556\t0.55556\t\t0.55556\t\t0.55556\n",
      "************************************************************************\n",
      "Average\t\t 0.80273\t0.80273\t\t0.80273\t\t0.80273\n",
      "\n",
      "\n",
      "\n"
     ]
    }
   ],
   "source": [
    "# CGAN DATASET size 53999\n",
    "num_epochs = 1000\n",
    "# Evaluating every models on the corresponding test dataset not seen during training.\n",
    "os_scores_acc = {}\n",
    "os_scores_f1 = {}\n",
    "for smart_os, signals in SMARTWATCH_OS.items():\n",
    "    if  smart_os == \"E4_CGAN\":\n",
    "        print(smart_os)\n",
    "        evaluate(os_scores_acc, os_scores_f1, smart_os, signals, all_subjects_X, all_subjects_y, DataType.CGAN, num_epochs=num_epochs, with_loso=False)"
   ]
  },
  {
   "cell_type": "code",
   "execution_count": 175,
   "metadata": {},
   "outputs": [
    {
     "name": "stdout",
     "output_type": "stream",
     "text": [
      "E4_CGAN\n",
      "*** Train on Synth, test on Real ***\n",
      "DATATYPE: DataType.CGAN\n",
      "LOADED: models/stress_detector/tstr/syn/cgan/5000/wesad.h5\n"
     ]
    },
    {
     "name": "stderr",
     "output_type": "stream",
     "text": [
      "2023-06-04 11:01:25.462580: I tensorflow/core/grappler/optimizers/custom_graph_optimizer_registry.cc:114] Plugin optimizer for device_type GPU is enabled.\n"
     ]
    },
    {
     "name": "stdout",
     "output_type": "stream",
     "text": [
      "Smartwatch OS: E4_CGAN\n",
      "Evaluation of CNN model trained on 5000 epochs\n",
      "\n",
      "Subject\t\t Accuracy\tPrecision\tRecall\t\tF1-Score\n",
      "************************************************************************\n",
      "S2\t\t 1.00000\t1.00000\t\t1.00000\t\t1.00000\n",
      "S3\t\t 0.79412\t0.79412\t\t0.79412\t\t0.79412\n",
      "S4\t\t 1.00000\t1.00000\t\t1.00000\t\t1.00000\n",
      "S5\t\t 1.00000\t1.00000\t\t1.00000\t\t1.00000\n",
      "S6\t\t 1.00000\t1.00000\t\t1.00000\t\t1.00000\n",
      "S7\t\t 0.74286\t0.73529\t\t0.71429\t\t0.72464\n",
      "S8\t\t 0.85714\t0.85714\t\t0.85714\t\t0.85714\n",
      "S9\t\t 0.97143\t0.97143\t\t0.97143\t\t0.97143\n",
      "S10\t\t 0.91667\t0.91667\t\t0.91667\t\t0.91667\n",
      "S11\t\t 0.80556\t0.80556\t\t0.80556\t\t0.80556\n",
      "S13\t\t 0.88889\t0.88889\t\t0.88889\t\t0.88889\n",
      "S14\t\t 0.69444\t0.69444\t\t0.69444\t\t0.69444\n",
      "S15\t\t 0.83333\t0.83333\t\t0.83333\t\t0.83333\n",
      "S16\t\t 1.00000\t1.00000\t\t1.00000\t\t1.00000\n",
      "S17\t\t 0.77778\t0.77778\t\t0.77778\t\t0.77778\n",
      "************************************************************************\n",
      "Average\t\t 0.88548\t0.88498\t\t0.88358\t\t0.88427\n",
      "\n",
      "\n",
      "\n"
     ]
    }
   ],
   "source": [
    "num_epochs = 5000\n",
    "# Evaluating every models on the corresponding test dataset not seen during training.\n",
    "os_scores_acc = {}\n",
    "os_scores_f1 = {}\n",
    "for smart_os, signals in SMARTWATCH_OS.items():\n",
    "    if  smart_os == \"E4_CGAN\":\n",
    "        print(smart_os)\n",
    "        evaluate(os_scores_acc, os_scores_f1, smart_os, signals, all_subjects_X, all_subjects_y, DataType.CGAN, num_epochs=num_epochs, with_loso=False)"
   ]
  },
  {
   "cell_type": "code",
   "execution_count": 146,
   "metadata": {},
   "outputs": [
    {
     "name": "stdout",
     "output_type": "stream",
     "text": [
      "E4_CGAN\n",
      "*** Train on Synth, test on Real ***\n",
      "DATATYPE: DataType.CGAN\n",
      "LOADED: models/stress_detector/tstr/syn/cgan/10000/wesad.h5\n"
     ]
    },
    {
     "name": "stderr",
     "output_type": "stream",
     "text": [
      "2023-06-03 20:39:37.064616: I tensorflow/core/grappler/optimizers/custom_graph_optimizer_registry.cc:114] Plugin optimizer for device_type GPU is enabled.\n"
     ]
    },
    {
     "name": "stdout",
     "output_type": "stream",
     "text": [
      "Smartwatch OS: E4_CGAN\n",
      "Evaluation of CNN model trained on 10000 epochs\n",
      "\n",
      "Subject\t\t Accuracy\tPrecision\tRecall\t\tF1-Score\n",
      "************************************************************************\n",
      "S2\t\t 0.97059\t0.97059\t\t0.97059\t\t0.97059\n",
      "S3\t\t 0.67647\t0.67647\t\t0.67647\t\t0.67647\n",
      "S4\t\t 1.00000\t1.00000\t\t1.00000\t\t1.00000\n",
      "S5\t\t 0.88571\t0.88571\t\t0.88571\t\t0.88571\n",
      "S6\t\t 0.91429\t0.91429\t\t0.91429\t\t0.91429\n",
      "S7\t\t 0.42857\t0.42857\t\t0.42857\t\t0.42857\n",
      "S8\t\t 0.80000\t0.80000\t\t0.80000\t\t0.80000\n",
      "S9\t\t 0.77143\t0.77143\t\t0.77143\t\t0.77143\n",
      "S10\t\t 0.94444\t0.94444\t\t0.94444\t\t0.94444\n",
      "S11\t\t 0.58333\t0.58333\t\t0.58333\t\t0.58333\n",
      "S13\t\t 0.77778\t0.77778\t\t0.77778\t\t0.77778\n",
      "S14\t\t 0.55556\t0.57143\t\t0.55556\t\t0.56338\n",
      "S15\t\t 0.80556\t0.80556\t\t0.80556\t\t0.80556\n",
      "S16\t\t 1.00000\t1.00000\t\t1.00000\t\t1.00000\n",
      "S17\t\t 0.41667\t0.41667\t\t0.41667\t\t0.41667\n",
      "************************************************************************\n",
      "Average\t\t 0.76869\t0.76975\t\t0.76869\t\t0.76921\n",
      "\n",
      "\n",
      "\n"
     ]
    }
   ],
   "source": [
    "num_epochs = 10000\n",
    "# Evaluating every models on the corresponding test dataset not seen during training.\n",
    "os_scores_acc = {}\n",
    "os_scores_f1 = {}\n",
    "for smart_os, signals in SMARTWATCH_OS.items():\n",
    "    if  smart_os == \"E4_CGAN\":\n",
    "        print(smart_os)\n",
    "        evaluate(os_scores_acc, os_scores_f1, smart_os, signals, all_subjects_X, all_subjects_y, DataType.CGAN, num_epochs=num_epochs, with_loso=False)"
   ]
  },
  {
   "cell_type": "code",
   "execution_count": 144,
   "metadata": {},
   "outputs": [
    {
     "name": "stdout",
     "output_type": "stream",
     "text": [
      "E4_CGAN\n",
      "*** Train on Synth, test on Real ***\n",
      "DATATYPE: DataType.CGAN\n",
      "LOADED: models/stress_detector/tstr/syn/cgan/1000/wesad.h5\n"
     ]
    },
    {
     "name": "stderr",
     "output_type": "stream",
     "text": [
      "2023-06-03 20:23:40.751113: I tensorflow/core/grappler/optimizers/custom_graph_optimizer_registry.cc:114] Plugin optimizer for device_type GPU is enabled.\n"
     ]
    },
    {
     "name": "stdout",
     "output_type": "stream",
     "text": [
      "Smartwatch OS: E4_CGAN\n",
      "Evaluation of CNN model trained on 1000 epochs\n",
      "\n",
      "Subject\t\t Accuracy\tPrecision\tRecall\t\tF1-Score\n",
      "************************************************************************\n",
      "S2\t\t 1.00000\t1.00000\t\t1.00000\t\t1.00000\n",
      "S3\t\t 0.79412\t0.79412\t\t0.79412\t\t0.79412\n",
      "S4\t\t 0.97143\t0.97143\t\t0.97143\t\t0.97143\n",
      "S5\t\t 1.00000\t1.00000\t\t1.00000\t\t1.00000\n",
      "S6\t\t 0.91429\t0.91429\t\t0.91429\t\t0.91429\n",
      "S7\t\t 0.82857\t0.82857\t\t0.82857\t\t0.82857\n",
      "S8\t\t 0.88571\t0.88571\t\t0.88571\t\t0.88571\n",
      "S9\t\t 0.85714\t0.85714\t\t0.85714\t\t0.85714\n",
      "S10\t\t 0.94444\t0.91892\t\t0.94444\t\t0.93151\n",
      "S11\t\t 0.72222\t0.72222\t\t0.72222\t\t0.72222\n",
      "S13\t\t 0.97222\t0.97222\t\t0.97222\t\t0.97222\n",
      "S14\t\t 0.44444\t0.44444\t\t0.44444\t\t0.44444\n",
      "S15\t\t 0.94444\t0.94444\t\t0.94444\t\t0.94444\n",
      "S16\t\t 0.97222\t0.97222\t\t0.97222\t\t0.97222\n",
      "S17\t\t 0.77778\t0.77778\t\t0.77778\t\t0.77778\n",
      "************************************************************************\n",
      "Average\t\t 0.86860\t0.86690\t\t0.86860\t\t0.86774\n",
      "\n",
      "\n",
      "\n"
     ]
    }
   ],
   "source": [
    "num_epochs = 1000\n",
    "# Evaluating every models on the corresponding test dataset not seen during training.\n",
    "os_scores_acc = {}\n",
    "os_scores_f1 = {}\n",
    "for smart_os, signals in SMARTWATCH_OS.items():\n",
    "    if  smart_os == \"E4_CGAN\":\n",
    "        print(smart_os)\n",
    "        evaluate(os_scores_acc, os_scores_f1, smart_os, signals, all_subjects_X, all_subjects_y, DataType.CGAN, num_epochs=num_epochs, with_loso=False)"
   ]
  },
  {
   "cell_type": "code",
   "execution_count": 182,
   "metadata": {},
   "outputs": [
    {
     "name": "stdout",
     "output_type": "stream",
     "text": [
      "E4_CGAN\n",
      "*** Train on Synth, test on Real ***\n",
      "DATATYPE: DataType.CGAN\n",
      "LOADED: models/stress_detector/tstr/syn/cgan/500/wesad.h5\n"
     ]
    },
    {
     "name": "stderr",
     "output_type": "stream",
     "text": [
      "2023-06-04 13:45:46.264457: I tensorflow/core/grappler/optimizers/custom_graph_optimizer_registry.cc:114] Plugin optimizer for device_type GPU is enabled.\n"
     ]
    },
    {
     "name": "stdout",
     "output_type": "stream",
     "text": [
      "Smartwatch OS: E4_CGAN\n",
      "Evaluation of CNN model trained on 500 epochs\n",
      "\n",
      "Subject\t\t Accuracy\tPrecision\tRecall\t\tF1-Score\n",
      "************************************************************************\n",
      "S2\t\t 1.00000\t1.00000\t\t1.00000\t\t1.00000\n",
      "S3\t\t 0.79412\t0.80000\t\t0.82353\t\t0.81159\n",
      "S4\t\t 1.00000\t1.00000\t\t1.00000\t\t1.00000\n",
      "S5\t\t 1.00000\t1.00000\t\t1.00000\t\t1.00000\n",
      "S6\t\t 1.00000\t1.00000\t\t1.00000\t\t1.00000\n",
      "S7\t\t 0.60000\t0.60000\t\t0.60000\t\t0.60000\n",
      "S8\t\t 0.82857\t0.82857\t\t0.82857\t\t0.82857\n",
      "S9\t\t 0.97143\t0.97143\t\t0.97143\t\t0.97143\n",
      "S10\t\t 0.91667\t0.91667\t\t0.91667\t\t0.91667\n",
      "S11\t\t 0.77778\t0.77778\t\t0.77778\t\t0.77778\n",
      "S13\t\t 0.97222\t0.97143\t\t0.94444\t\t0.95775\n",
      "S14\t\t 0.58333\t0.59459\t\t0.61111\t\t0.60274\n",
      "S15\t\t 0.86111\t0.85714\t\t0.83333\t\t0.84507\n",
      "S16\t\t 1.00000\t1.00000\t\t1.00000\t\t1.00000\n",
      "S17\t\t 0.58333\t0.58333\t\t0.58333\t\t0.58333\n",
      "************************************************************************\n",
      "Average\t\t 0.85924\t0.86006\t\t0.85935\t\t0.85966\n",
      "\n",
      "\n",
      "\n"
     ]
    }
   ],
   "source": [
    "num_epochs = 500\n",
    "# Evaluating every models on the corresponding test dataset not seen during training.\n",
    "os_scores_acc = {}\n",
    "os_scores_f1 = {}\n",
    "for smart_os, signals in SMARTWATCH_OS.items():\n",
    "    if  smart_os == \"E4_CGAN\":\n",
    "        print(smart_os)\n",
    "        evaluate(os_scores_acc, os_scores_f1, smart_os, signals, all_subjects_X, all_subjects_y, DataType.CGAN, num_epochs=num_epochs, with_loso=False)"
   ]
  },
  {
   "cell_type": "code",
   "execution_count": 51,
   "metadata": {},
   "outputs": [
    {
     "name": "stdout",
     "output_type": "stream",
     "text": [
      "E4\n",
      "*** Evaluate using 'Leave One Subject Out'-Method ***\n"
     ]
    },
    {
     "name": "stderr",
     "output_type": "stream",
     "text": [
      "2023-06-06 11:39:01.490767: I tensorflow/core/grappler/optimizers/custom_graph_optimizer_registry.cc:114] Plugin optimizer for device_type GPU is enabled.\n"
     ]
    },
    {
     "name": "stdout",
     "output_type": "stream",
     "text": [
      "*** Evaluate using 'Leave One Subject Out'-Method ***\n"
     ]
    },
    {
     "name": "stderr",
     "output_type": "stream",
     "text": [
      "2023-06-06 11:39:02.976755: I tensorflow/core/grappler/optimizers/custom_graph_optimizer_registry.cc:114] Plugin optimizer for device_type GPU is enabled.\n"
     ]
    },
    {
     "name": "stdout",
     "output_type": "stream",
     "text": [
      "*** Evaluate using 'Leave One Subject Out'-Method ***\n"
     ]
    },
    {
     "name": "stderr",
     "output_type": "stream",
     "text": [
      "2023-06-06 11:39:04.125642: I tensorflow/core/grappler/optimizers/custom_graph_optimizer_registry.cc:114] Plugin optimizer for device_type GPU is enabled.\n"
     ]
    },
    {
     "name": "stdout",
     "output_type": "stream",
     "text": [
      "*** Evaluate using 'Leave One Subject Out'-Method ***\n"
     ]
    },
    {
     "name": "stderr",
     "output_type": "stream",
     "text": [
      "2023-06-06 11:39:05.074072: I tensorflow/core/grappler/optimizers/custom_graph_optimizer_registry.cc:114] Plugin optimizer for device_type GPU is enabled.\n"
     ]
    },
    {
     "name": "stdout",
     "output_type": "stream",
     "text": [
      "*** Evaluate using 'Leave One Subject Out'-Method ***\n"
     ]
    },
    {
     "name": "stderr",
     "output_type": "stream",
     "text": [
      "2023-06-06 11:39:06.071872: I tensorflow/core/grappler/optimizers/custom_graph_optimizer_registry.cc:114] Plugin optimizer for device_type GPU is enabled.\n"
     ]
    },
    {
     "name": "stdout",
     "output_type": "stream",
     "text": [
      "*** Evaluate using 'Leave One Subject Out'-Method ***\n"
     ]
    },
    {
     "name": "stderr",
     "output_type": "stream",
     "text": [
      "2023-06-06 11:39:07.179540: I tensorflow/core/grappler/optimizers/custom_graph_optimizer_registry.cc:114] Plugin optimizer for device_type GPU is enabled.\n"
     ]
    },
    {
     "name": "stdout",
     "output_type": "stream",
     "text": [
      "*** Evaluate using 'Leave One Subject Out'-Method ***\n"
     ]
    },
    {
     "name": "stderr",
     "output_type": "stream",
     "text": [
      "2023-06-06 11:39:08.840911: I tensorflow/core/grappler/optimizers/custom_graph_optimizer_registry.cc:114] Plugin optimizer for device_type GPU is enabled.\n"
     ]
    },
    {
     "name": "stdout",
     "output_type": "stream",
     "text": [
      "*** Evaluate using 'Leave One Subject Out'-Method ***\n"
     ]
    },
    {
     "name": "stderr",
     "output_type": "stream",
     "text": [
      "2023-06-06 11:39:09.965025: I tensorflow/core/grappler/optimizers/custom_graph_optimizer_registry.cc:114] Plugin optimizer for device_type GPU is enabled.\n"
     ]
    },
    {
     "name": "stdout",
     "output_type": "stream",
     "text": [
      "*** Evaluate using 'Leave One Subject Out'-Method ***\n"
     ]
    },
    {
     "name": "stderr",
     "output_type": "stream",
     "text": [
      "2023-06-06 11:39:10.980441: I tensorflow/core/grappler/optimizers/custom_graph_optimizer_registry.cc:114] Plugin optimizer for device_type GPU is enabled.\n"
     ]
    },
    {
     "name": "stdout",
     "output_type": "stream",
     "text": [
      "*** Evaluate using 'Leave One Subject Out'-Method ***\n"
     ]
    },
    {
     "name": "stderr",
     "output_type": "stream",
     "text": [
      "2023-06-06 11:39:12.083760: I tensorflow/core/grappler/optimizers/custom_graph_optimizer_registry.cc:114] Plugin optimizer for device_type GPU is enabled.\n"
     ]
    },
    {
     "name": "stdout",
     "output_type": "stream",
     "text": [
      "*** Evaluate using 'Leave One Subject Out'-Method ***\n"
     ]
    },
    {
     "name": "stderr",
     "output_type": "stream",
     "text": [
      "2023-06-06 11:39:13.131027: I tensorflow/core/grappler/optimizers/custom_graph_optimizer_registry.cc:114] Plugin optimizer for device_type GPU is enabled.\n"
     ]
    },
    {
     "name": "stdout",
     "output_type": "stream",
     "text": [
      "*** Evaluate using 'Leave One Subject Out'-Method ***\n"
     ]
    },
    {
     "name": "stderr",
     "output_type": "stream",
     "text": [
      "2023-06-06 11:39:14.211907: I tensorflow/core/grappler/optimizers/custom_graph_optimizer_registry.cc:114] Plugin optimizer for device_type GPU is enabled.\n"
     ]
    },
    {
     "name": "stdout",
     "output_type": "stream",
     "text": [
      "*** Evaluate using 'Leave One Subject Out'-Method ***\n"
     ]
    },
    {
     "name": "stderr",
     "output_type": "stream",
     "text": [
      "2023-06-06 11:39:15.230998: I tensorflow/core/grappler/optimizers/custom_graph_optimizer_registry.cc:114] Plugin optimizer for device_type GPU is enabled.\n"
     ]
    },
    {
     "name": "stdout",
     "output_type": "stream",
     "text": [
      "*** Evaluate using 'Leave One Subject Out'-Method ***\n"
     ]
    },
    {
     "name": "stderr",
     "output_type": "stream",
     "text": [
      "2023-06-06 11:39:17.264055: I tensorflow/core/grappler/optimizers/custom_graph_optimizer_registry.cc:114] Plugin optimizer for device_type GPU is enabled.\n"
     ]
    },
    {
     "name": "stdout",
     "output_type": "stream",
     "text": [
      "*** Evaluate using 'Leave One Subject Out'-Method ***\n"
     ]
    },
    {
     "name": "stderr",
     "output_type": "stream",
     "text": [
      "2023-06-06 11:39:18.560491: I tensorflow/core/grappler/optimizers/custom_graph_optimizer_registry.cc:114] Plugin optimizer for device_type GPU is enabled.\n"
     ]
    },
    {
     "name": "stdout",
     "output_type": "stream",
     "text": [
      "Smartwatch OS: E4\n",
      "Evaluation of CNN model trained on 100 epochs\n",
      "\n",
      "Subject\t\t Accuracy\tPrecision\tRecall\t\tF1-Score\n",
      "************************************************************************\n",
      "S2\t\t 0.97059\t0.97059\t\t0.97059\t\t0.97059\n",
      "S3\t\t 0.82353\t0.81818\t\t0.79412\t\t0.80597\n",
      "S4\t\t 0.97143\t0.97143\t\t0.97143\t\t0.97143\n",
      "S5\t\t 1.00000\t1.00000\t\t1.00000\t\t1.00000\n",
      "S6\t\t 0.94286\t0.94286\t\t0.94286\t\t0.94286\n",
      "S7\t\t 0.94286\t0.94286\t\t0.94286\t\t0.94286\n",
      "S8\t\t 0.94286\t0.97059\t\t0.94286\t\t0.95652\n",
      "S9\t\t 1.00000\t1.00000\t\t1.00000\t\t1.00000\n",
      "S10\t\t 0.97222\t0.97143\t\t0.94444\t\t0.95775\n",
      "S11\t\t 0.80556\t0.80000\t\t0.77778\t\t0.78873\n",
      "S13\t\t 0.97222\t0.97222\t\t0.97222\t\t0.97222\n",
      "S14\t\t 0.27778\t0.27778\t\t0.27778\t\t0.27778\n",
      "S15\t\t 0.97222\t0.97222\t\t0.97222\t\t0.97222\n",
      "S16\t\t 1.00000\t1.00000\t\t1.00000\t\t1.00000\n",
      "S17\t\t 0.66667\t0.66667\t\t0.66667\t\t0.66667\n",
      "************************************************************************\n",
      "Average\t\t 0.88405\t0.88512\t\t0.87839\t\t0.88171\n",
      "\n",
      "\n",
      "\n",
      "E4_CGAN\n",
      "*** Evaluate using 'Leave One Subject Out'-Method ***\n"
     ]
    },
    {
     "name": "stderr",
     "output_type": "stream",
     "text": [
      "2023-06-06 11:39:19.728020: I tensorflow/core/grappler/optimizers/custom_graph_optimizer_registry.cc:114] Plugin optimizer for device_type GPU is enabled.\n"
     ]
    },
    {
     "name": "stdout",
     "output_type": "stream",
     "text": [
      "*** Evaluate using 'Leave One Subject Out'-Method ***\n"
     ]
    },
    {
     "name": "stderr",
     "output_type": "stream",
     "text": [
      "2023-06-06 11:39:20.906845: I tensorflow/core/grappler/optimizers/custom_graph_optimizer_registry.cc:114] Plugin optimizer for device_type GPU is enabled.\n"
     ]
    },
    {
     "name": "stdout",
     "output_type": "stream",
     "text": [
      "*** Evaluate using 'Leave One Subject Out'-Method ***\n"
     ]
    },
    {
     "name": "stderr",
     "output_type": "stream",
     "text": [
      "2023-06-06 11:39:21.854095: I tensorflow/core/grappler/optimizers/custom_graph_optimizer_registry.cc:114] Plugin optimizer for device_type GPU is enabled.\n"
     ]
    },
    {
     "name": "stdout",
     "output_type": "stream",
     "text": [
      "*** Evaluate using 'Leave One Subject Out'-Method ***\n"
     ]
    },
    {
     "name": "stderr",
     "output_type": "stream",
     "text": [
      "2023-06-06 11:39:22.988822: I tensorflow/core/grappler/optimizers/custom_graph_optimizer_registry.cc:114] Plugin optimizer for device_type GPU is enabled.\n"
     ]
    },
    {
     "name": "stdout",
     "output_type": "stream",
     "text": [
      "*** Evaluate using 'Leave One Subject Out'-Method ***\n"
     ]
    },
    {
     "name": "stderr",
     "output_type": "stream",
     "text": [
      "2023-06-06 11:39:24.093785: I tensorflow/core/grappler/optimizers/custom_graph_optimizer_registry.cc:114] Plugin optimizer for device_type GPU is enabled.\n"
     ]
    },
    {
     "name": "stdout",
     "output_type": "stream",
     "text": [
      "*** Evaluate using 'Leave One Subject Out'-Method ***\n"
     ]
    },
    {
     "name": "stderr",
     "output_type": "stream",
     "text": [
      "2023-06-06 11:39:25.302388: I tensorflow/core/grappler/optimizers/custom_graph_optimizer_registry.cc:114] Plugin optimizer for device_type GPU is enabled.\n"
     ]
    },
    {
     "name": "stdout",
     "output_type": "stream",
     "text": [
      "*** Evaluate using 'Leave One Subject Out'-Method ***\n"
     ]
    },
    {
     "name": "stderr",
     "output_type": "stream",
     "text": [
      "2023-06-06 11:39:27.018771: I tensorflow/core/grappler/optimizers/custom_graph_optimizer_registry.cc:114] Plugin optimizer for device_type GPU is enabled.\n"
     ]
    },
    {
     "name": "stdout",
     "output_type": "stream",
     "text": [
      "*** Evaluate using 'Leave One Subject Out'-Method ***\n"
     ]
    },
    {
     "name": "stderr",
     "output_type": "stream",
     "text": [
      "2023-06-06 11:39:28.158659: I tensorflow/core/grappler/optimizers/custom_graph_optimizer_registry.cc:114] Plugin optimizer for device_type GPU is enabled.\n"
     ]
    },
    {
     "name": "stdout",
     "output_type": "stream",
     "text": [
      "*** Evaluate using 'Leave One Subject Out'-Method ***\n"
     ]
    },
    {
     "name": "stderr",
     "output_type": "stream",
     "text": [
      "2023-06-06 11:39:29.198597: I tensorflow/core/grappler/optimizers/custom_graph_optimizer_registry.cc:114] Plugin optimizer for device_type GPU is enabled.\n"
     ]
    },
    {
     "name": "stdout",
     "output_type": "stream",
     "text": [
      "*** Evaluate using 'Leave One Subject Out'-Method ***\n"
     ]
    },
    {
     "name": "stderr",
     "output_type": "stream",
     "text": [
      "2023-06-06 11:39:30.261590: I tensorflow/core/grappler/optimizers/custom_graph_optimizer_registry.cc:114] Plugin optimizer for device_type GPU is enabled.\n"
     ]
    },
    {
     "name": "stdout",
     "output_type": "stream",
     "text": [
      "*** Evaluate using 'Leave One Subject Out'-Method ***\n"
     ]
    },
    {
     "name": "stderr",
     "output_type": "stream",
     "text": [
      "2023-06-06 11:39:31.294239: I tensorflow/core/grappler/optimizers/custom_graph_optimizer_registry.cc:114] Plugin optimizer for device_type GPU is enabled.\n"
     ]
    },
    {
     "name": "stdout",
     "output_type": "stream",
     "text": [
      "*** Evaluate using 'Leave One Subject Out'-Method ***\n"
     ]
    },
    {
     "name": "stderr",
     "output_type": "stream",
     "text": [
      "2023-06-06 11:39:32.294349: I tensorflow/core/grappler/optimizers/custom_graph_optimizer_registry.cc:114] Plugin optimizer for device_type GPU is enabled.\n"
     ]
    },
    {
     "name": "stdout",
     "output_type": "stream",
     "text": [
      "*** Evaluate using 'Leave One Subject Out'-Method ***\n"
     ]
    },
    {
     "name": "stderr",
     "output_type": "stream",
     "text": [
      "2023-06-06 11:39:33.370956: I tensorflow/core/grappler/optimizers/custom_graph_optimizer_registry.cc:114] Plugin optimizer for device_type GPU is enabled.\n"
     ]
    },
    {
     "name": "stdout",
     "output_type": "stream",
     "text": [
      "*** Evaluate using 'Leave One Subject Out'-Method ***\n"
     ]
    },
    {
     "name": "stderr",
     "output_type": "stream",
     "text": [
      "2023-06-06 11:39:34.773860: I tensorflow/core/grappler/optimizers/custom_graph_optimizer_registry.cc:114] Plugin optimizer for device_type GPU is enabled.\n"
     ]
    },
    {
     "name": "stdout",
     "output_type": "stream",
     "text": [
      "*** Evaluate using 'Leave One Subject Out'-Method ***\n"
     ]
    },
    {
     "name": "stderr",
     "output_type": "stream",
     "text": [
      "2023-06-06 11:39:35.882351: I tensorflow/core/grappler/optimizers/custom_graph_optimizer_registry.cc:114] Plugin optimizer for device_type GPU is enabled.\n"
     ]
    },
    {
     "name": "stdout",
     "output_type": "stream",
     "text": [
      "Smartwatch OS: E4_CGAN\n",
      "Evaluation of CNN model trained on 1000 epochs\n",
      "\n",
      "Subject\t\t Accuracy\tPrecision\tRecall\t\tF1-Score\n",
      "************************************************************************\n",
      "S2\t\t 0.97059\t0.97059\t\t0.97059\t\t0.97059\n",
      "S3\t\t 0.76471\t0.76471\t\t0.76471\t\t0.76471\n",
      "S4\t\t 1.00000\t1.00000\t\t1.00000\t\t1.00000\n",
      "S5\t\t 0.97143\t0.97143\t\t0.97143\t\t0.97143\n",
      "S6\t\t 0.97143\t0.97143\t\t0.97143\t\t0.97143\n",
      "S7\t\t 0.77143\t0.77143\t\t0.77143\t\t0.77143\n",
      "S8\t\t 0.94286\t0.94286\t\t0.94286\t\t0.94286\n",
      "S9\t\t 0.97143\t0.97143\t\t0.97143\t\t0.97143\n",
      "S10\t\t 0.94444\t0.94444\t\t0.94444\t\t0.94444\n",
      "S11\t\t 0.88889\t0.88889\t\t0.88889\t\t0.88889\n",
      "S13\t\t 0.97222\t0.97222\t\t0.97222\t\t0.97222\n",
      "S14\t\t 0.69444\t0.69444\t\t0.69444\t\t0.69444\n",
      "S15\t\t 0.94444\t0.94444\t\t0.94444\t\t0.94444\n",
      "S16\t\t 1.00000\t1.00000\t\t1.00000\t\t1.00000\n",
      "S17\t\t 0.63889\t0.63889\t\t0.63889\t\t0.63889\n",
      "************************************************************************\n",
      "Average\t\t 0.89648\t0.89648\t\t0.89648\t\t0.89648\n",
      "\n",
      "\n",
      "\n"
     ]
    }
   ],
   "source": [
    "num_epochs = 1000\n",
    "# Evaluating every models on the corresponding test dataset not seen during training.\n",
    "os_scores_acc = {}\n",
    "os_scores_f1 = {}\n",
    "\n",
    "for smart_os, signals in SMARTWATCH_OS.items():\n",
    "    \n",
    "    if  smart_os == \"E4_CGAN\":\n",
    "        print(smart_os)\n",
    "        evaluate(os_scores_acc, os_scores_f1, smart_os, signals, all_subjects_X, all_subjects_y, DataType.CGAN, num_epochs=num_epochs, with_loso=True)\n",
    "    #if  smart_os == \"E4_DGAN\":\n",
    "    #    print(smart_os)\n",
    "    #    evaluate(os_scores_acc, os_scores_f1, smart_os, signals, all_subjects_X, all_subjects_y, DataType.DGAN, num_epochs=num_epochs)\n",
    "    if smart_os == \"E4\":\n",
    "        print(\"E4\")\n",
    "        evaluate(os_scores_acc, os_scores_f1, smart_os, signals, all_subjects_X, all_subjects_y, DataType.REAL, num_epochs=100)"
   ]
  },
  {
   "cell_type": "code",
   "execution_count": 53,
   "metadata": {
    "tags": []
   },
   "outputs": [],
   "source": [
    "groups_set = [0, 1, 2, 3, 4, 5, 6, 7, 8, 9, 10, 11, 12, 13, 14, 15]\n",
    "\n",
    "df_os_scores_acc = pd.DataFrame(os_scores_acc)\n",
    "replacements = {l1:f'S{l2}' for l1, l2 in zip(groups_set, subject_ids)}\n",
    "df_os_scores_acc = df_os_scores_acc.rename(replacements)\n",
    "df_os_scores_acc.to_csv('os_scores_acc.csv')"
   ]
  },
  {
   "cell_type": "code",
   "execution_count": 54,
   "metadata": {
    "tags": []
   },
   "outputs": [],
   "source": [
    "df_os_scores_f1 = pd.DataFrame(os_scores_f1)\n",
    "replacements = {l1:f'S{l2}' for l1, l2 in zip(groups_set, subject_ids)}\n",
    "df_os_scores_f1 = df_os_scores_f1.rename(replacements)\n",
    "df_os_scores_f1.to_csv('os_scores_f1.csv')"
   ]
  },
  {
   "cell_type": "code",
   "execution_count": 60,
   "metadata": {
    "tags": []
   },
   "outputs": [
    {
     "data": {
      "text/plain": [
       "<AxesSubplot: title={'center': 'Accuracy of different os models on each subject'}>"
      ]
     },
     "execution_count": 60,
     "metadata": {},
     "output_type": "execute_result"
    },
    {
     "data": {
      "image/png": "[encoded data removed]",
      "text/plain": [
       "<Figure size 2000x1000 with 1 Axes>"
      ]
     },
     "metadata": {},
     "output_type": "display_data"
    }
   ],
   "source": [
    "df_os_scores_acc.plot.bar(figsize=(20,10), title='Accuracy of different os models on each subject')"
   ]
  },
  {
   "cell_type": "code",
   "execution_count": 59,
   "metadata": {
    "tags": []
   },
   "outputs": [
    {
     "data": {
      "text/plain": [
       "<AxesSubplot: title={'center': 'F1-Score of different os models on each subject'}>"
      ]
     },
     "execution_count": 59,
     "metadata": {},
     "output_type": "execute_result"
    },
    {
     "data": {
      "image/png": "[encoded data removed]",
      "text/plain": [
       "<Figure size 2000x1000 with 1 Axes>"
      ]
     },
     "metadata": {},
     "output_type": "display_data"
    }
   ],
   "source": [
    "df_os_scores_f1.plot.bar(figsize=(20,10), title='F1-Score of different os models on each subject')"
   ]
  },
  {
   "cell_type": "code",
   "execution_count": 58,
   "metadata": {
    "tags": []
   },
   "outputs": [
    {
     "name": "stdout",
     "output_type": "stream",
     "text": [
      "           E4   E4_CGAN\n",
      "S2   0.970588  0.970588\n",
      "S3   0.823529  0.764706\n",
      "S4   0.971429  1.000000\n",
      "S5   1.000000  0.971429\n",
      "S6   0.942857  0.971429\n",
      "S7   0.942857  0.771429\n",
      "S8   0.942857  0.942857\n",
      "S9   1.000000  0.971429\n",
      "S10  0.972222  0.944444\n",
      "S11  0.805556  0.888889\n",
      "S13  0.972222  0.972222\n",
      "S14  0.277778  0.694444\n",
      "S15  0.972222  0.944444\n",
      "S16  1.000000  1.000000\n",
      "S17  0.666667  0.638889\n",
      "\n",
      "E4         0.884052\n",
      "E4_CGAN    0.896480\n",
      "dtype: float64\n",
      "\n"
     ]
    },
    {
     "data": {
      "text/plain": [
       "Text(0.5, 1.0, 'Average accuracy of different models on each OS')"
      ]
     },
     "execution_count": 58,
     "metadata": {},
     "output_type": "execute_result"
    },
    {
     "data": {
      "image/png": "[encoded data removed]",
      "text/plain": [
       "<Figure size 640x480 with 1 Axes>"
      ]
     },
     "metadata": {},
     "output_type": "display_data"
    }
   ],
   "source": [
    "# bar plot of the accuracy of the different loso models\n",
    "print(f'{df_os_scores_acc}\\n')\n",
    "print(f'{df_os_scores_acc.mean()}\\n')\n",
    "sns.barplot(x=df_os_scores_acc.keys(), y=df_os_scores_acc.mean(), palette='pastel').set_title(label='Average accuracy of different models on each OS')"
   ]
  },
  {
   "cell_type": "code",
   "execution_count": 61,
   "metadata": {
    "tags": []
   },
   "outputs": [
    {
     "name": "stdout",
     "output_type": "stream",
     "text": [
      "           E4   E4_CGAN\n",
      "S2   0.970588  0.970588\n",
      "S3   0.805970  0.764706\n",
      "S4   0.971429  1.000000\n",
      "S5   1.000000  0.971429\n",
      "S6   0.942857  0.971429\n",
      "S7   0.942857  0.771429\n",
      "S8   0.956522  0.942857\n",
      "S9   1.000000  0.971429\n",
      "S10  0.957746  0.944444\n",
      "S11  0.788732  0.888889\n",
      "S13  0.972222  0.972222\n",
      "S14  0.277778  0.694444\n",
      "S15  0.972222  0.944444\n",
      "S16  1.000000  1.000000\n",
      "S17  0.666667  0.638889\n",
      "\n",
      "E4         0.881706\n",
      "E4_CGAN    0.896480\n",
      "dtype: float64\n",
      "\n"
     ]
    },
    {
     "data": {
      "text/plain": [
       "Text(0.5, 1.0, 'F1 score of different models on each OS')"
      ]
     },
     "execution_count": 61,
     "metadata": {},
     "output_type": "execute_result"
    },
    {
     "data": {
      "image/png": "[encoded data removed]",
      "text/plain": [
       "<Figure size 640x480 with 1 Axes>"
      ]
     },
     "metadata": {},
     "output_type": "display_data"
    }
   ],
   "source": [
    "# bar plot of the accuracy of the different loso models\n",
    "print(f'{df_os_scores_f1}\\n')\n",
    "print(f'{df_os_scores_f1.mean()}\\n')\n",
    "sns.barplot(x=df_os_scores_f1.keys(), y=df_os_scores_f1.mean(), palette='pastel').set_title(label='F1 score of different models on each OS')"
   ]
  },
  {
   "attachments": {},
   "cell_type": "markdown",
   "metadata": {},
   "source": [
    "## <a id='toc1_5_'></a>[Prediction](#toc0_)"
   ]
  },
  {
   "cell_type": "code",
   "execution_count": null,
   "metadata": {
    "tags": []
   },
   "outputs": [],
   "source": [
    "model_path = \"./models/E4/wesad_E4_binary_s10_100.h5\"\n",
    "model = tf.keras.models.load_model(model_path)\n",
    "predictions = model.predict(X_test) # make predictions on the test set using the trained model\n",
    "pred_class = np.argmax(predictions, axis=-1) # get the class with the highest probability"
   ]
  },
  {
   "cell_type": "code",
   "execution_count": null,
   "metadata": {
    "tags": []
   },
   "outputs": [],
   "source": [
    "true_classified = 0\n",
    "for i in range(len(pred_class)):\n",
    "    print(\"Prediction: \", predictions[i])\n",
    "    print(\"Prediction: \", pred_class[i])\n",
    "    ground_truth = max(enumerate(y_test[i]),key=lambda x: x[1])[0]\n",
    "    print(\"Ground Truth: \", ground_truth)\n",
    "    print()\n",
    "    if ground_truth == pred_class[i]:\n",
    "        true_classified += 1\n",
    "print(\"Accuracy: \", true_classified/len(pred_class))\n",
    "    "
   ]
  },
  {
   "cell_type": "code",
   "execution_count": 294,
   "metadata": {},
   "outputs": [],
   "source": [
    "df_os_scores_acc = pd.DataFrame(os_scores_acc)\n",
    "replacements = {l1:f'S{l2}' for l1, l2 in zip(groups_set, subject_ids)}\n",
    "df_os_scores_acc = df_os_scores_acc.rename(replacements)\n",
    "df_os_scores_acc.to_csv('os_scores_acc.csv')"
   ]
  }
 ],
 "metadata": {
  "kernelspec": {
   "display_name": "Python 3 (ipykernel)",
   "language": "python",
   "name": "python3"
  },
  "language_info": {
   "codemirror_mode": {
    "name": "ipython",
    "version": 3
   },
   "file_extension": ".py",
   "mimetype": "text/x-python",
   "name": "python",
   "nbconvert_exporter": "python",
   "pygments_lexer": "ipython3",
   "version": "3.9.15"
  },
  "vscode": {
   "interpreter": {
    "hash": "c10594c322a1d947e8fe401957d564bca2bfab6035555ae665b20819d7ff0423"
   }
  }
 },
 "nbformat": 4,
 "nbformat_minor": 4
}
