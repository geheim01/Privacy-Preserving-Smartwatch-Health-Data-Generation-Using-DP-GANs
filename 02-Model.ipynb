{
 "cells": [
  {
   "cell_type": "code",
   "execution_count": null,
   "metadata": {},
   "outputs": [],
   "source": [
    "import pandas as pd\n",
    "import tensorflow as tf\n",
    "import numpy as np\n",
    "from tensorflow.keras.optimizers.legacy import Adam\n",
    "\n",
    "import tensorflow_privacy\n",
    "# from tensorflow_privacy.privacy.analysis import compute_dp_sgd_privacy\n",
    "from tensorflow_privacy.privacy.optimizers import dp_optimizer_keras\n",
    "from tensorflow_privacy.privacy.optimizers import dp_optimizer\n",
    "from tensorflow_privacy.privacy.optimizers import dp_optimizer_vectorized\n",
    "from tensorflow_privacy.privacy.optimizers import dp_optimizer_keras_vectorized\n",
    "from tensorflow_privacy.privacy.analysis import compute_dp_sgd_privacy\n",
    "\n",
    "from synthesizers.cgan.model import ConditionalGAN, GANMonitor\n",
    "from synthesizers.preprocessing.wesad import Subject, WESADDataset\n",
    "from synthesizers.utils.training import data_split, buildDataCTST, generate_and_plot_data, synthetic_dataset\n"
   ]
  },
  {
   "cell_type": "code",
   "execution_count": null,
   "metadata": {},
   "outputs": [],
   "source": [
    "DATA_PATH = 'data/wesad/wesad_preprocessed_1hz.csv'\n",
    "SAMPLING_RATE = 1"
   ]
  },
  {
   "cell_type": "code",
   "execution_count": null,
   "metadata": {},
   "outputs": [],
   "source": [
    "df = pd.read_csv(DATA_PATH, index_col=0)\n",
    "df_label = df['label']\n",
    "df_stress = df[df['label']==1]\n",
    "df_no_stress = df[df['label']==0]"
   ]
  },
  {
   "cell_type": "code",
   "execution_count": null,
   "metadata": {},
   "outputs": [],
   "source": [
    "trainX, label_trainX = WESADDataset.create_windows(df, 1)\n",
    "mos, _ = WESADDataset.create_windows(df_stress, SAMPLING_RATE)\n",
    "non_mos, _ = WESADDataset.create_windows(df_no_stress,SAMPLING_RATE)\n",
    "\n",
    "trainX = np.delete(trainX, 6, axis=2)\n",
    "mos = np.delete(mos, 6, axis=2)\n",
    "non_mos = np.delete(non_mos, 6, axis=2)"
   ]
  },
  {
   "cell_type": "code",
   "execution_count": null,
   "metadata": {},
   "outputs": [],
   "source": [
    "num_split = 0.8\n",
    "trainmos, testmos = data_split(mos, num_split)\n",
    "trainnomos, testnomos = data_split(non_mos, num_split)\n",
    "\n",
    "print(trainmos.shape)\n",
    "print(testmos.shape)\n",
    "print(trainnomos.shape)\n",
    "print(testnomos.shape)"
   ]
  },
  {
   "cell_type": "code",
   "execution_count": null,
   "metadata": {},
   "outputs": [],
   "source": [
    "# Training Hyperparameters\n",
    "DP_TRAINING = False\n",
    "NUM_FEATURES = trainX.shape[2]\n",
    "SEQ_LENGTH = 60\n",
    "LATENT_DIM = SEQ_LENGTH\n",
    "BATCH_SIZE = 32\n",
    "HIDDEN_UNITS = 16\n",
    "EPOCHS = 30000\n",
    "\n",
    "# load dataset into tf dataset\n",
    "dataset = tf.data.Dataset.from_tensor_slices((trainX, label_trainX))\n",
    "dataset = dataset.shuffle(buffer_size=1024).batch(BATCH_SIZE)\n",
    "dataset"
   ]
  },
  {
   "cell_type": "code",
   "execution_count": null,
   "metadata": {},
   "outputs": [],
   "source": [
    "#tf.random.set_seed(42)\n",
    "randomTrainMos = tf.random.normal(shape=(trainmos.shape[0], LATENT_DIM))\n",
    "\n",
    "#tf.random.set_seed(42)\n",
    "randomTrainNoMos = tf.random.normal(shape=(trainnomos.shape[0], LATENT_DIM))\n",
    "\n",
    "#tf.random.set_seed(42)\n",
    "randomTestMos = tf.random.normal(shape=(testmos.shape[0], LATENT_DIM))\n",
    "\n",
    "#tf.random.set_seed(42)\n",
    "randomTestNoMos = tf.random.normal(shape=(testnomos.shape[0], LATENT_DIM))"
   ]
  },
  {
   "cell_type": "code",
   "execution_count": null,
   "metadata": {},
   "outputs": [],
   "source": [
    "l2_norm_clip = 1.5\n",
    "noise_multiplier = 1.3\n",
    "num_microbatches = 250\n",
    "learning_rate = 0.25\n",
    "\n",
    "optimizer = dp_optimizer_vectorized.VectorizedDPAdamOptimizer( #vectorized adam am schnellsten\n",
    "    l2_norm_clip=l2_norm_clip,\n",
    "    noise_multiplier=noise_multiplier,\n",
    "    num_microbatches=num_microbatches,\n",
    "    learning_rate=learning_rate\n",
    ")\n",
    "# optimizer = dp_optimizer_keras_vectorized.VectorizedDPKerasAdamOptimizer(\n",
    "#     l2_norm_clip=l2_norm_clip,\n",
    "#     noise_multiplier=noise_multiplier,\n",
    "#     num_microbatches=num_microbatches,\n",
    "#     learning_rate=learning_rate\n",
    "# )\n"
   ]
  },
  {
   "cell_type": "code",
   "execution_count": null,
   "metadata": {},
   "outputs": [],
   "source": [
    "cond_gan = ConditionalGAN(\n",
    "    num_features=NUM_FEATURES,\n",
    "    seq_length=SEQ_LENGTH,\n",
    "    latent_dim=LATENT_DIM,\n",
    "    discriminator=ConditionalGAN.conditional_discriminator(\n",
    "        seq_length=SEQ_LENGTH, \n",
    "        num_features=NUM_FEATURES), \n",
    "    generator=ConditionalGAN.conditional_generator(\n",
    "        hidden_units=HIDDEN_UNITS, \n",
    "        seq_length=SEQ_LENGTH, \n",
    "        latent_dim=LATENT_DIM,\n",
    "        num_features=NUM_FEATURES\n",
    "    )\n",
    ")\n",
    "if DP_TRAINING:\n",
    "    l2_norm_clip = 1.5\n",
    "    noise_multiplier = 1.3\n",
    "    num_microbatches = 250\n",
    "    learning_rate = 0.25\n",
    "\n",
    "    d_optimizer = dp_optimizer_vectorized.VectorizedDPAdamOptimizer( #vectorized adam am schnellsten\n",
    "        l2_norm_clip=l2_norm_clip,\n",
    "        noise_multiplier=noise_multiplier,\n",
    "        num_microbatches=num_microbatches,\n",
    "        learning_rate=learning_rate\n",
    "    )\n",
    "else:\n",
    "    d_optimizer = Adam(learning_rate=0.0002, beta_1=0.5)\n",
    "\n",
    "cond_gan.compile(\n",
    "    d_optimizer= d_optimizer,# Adam(learning_rate=0.0002, beta_1=0.5),\n",
    "    g_optimizer= Adam(learning_rate=0.0002, beta_1=0.5), #optimizer\n",
    "    loss_fn=tf.keras.losses.BinaryCrossentropy(from_logits=True),\n",
    ")\n",
    "\n",
    "print(f\"{cond_gan.d_optimizer} is used\")\n",
    "\n",
    "if DP_TRAINING:\n",
    "    generator_save_path = f\"models/dp/{EPOCHS}/cgan_generator/\"\n",
    "else:\n",
    "    generator_save_path = f\"models/no_dp/{EPOCHS}/cgan_generator\"\n",
    "\n",
    "history = cond_gan.fit(\n",
    "    dataset,\n",
    "    epochs=EPOCHS,\n",
    "    callbacks=[\n",
    "        GANMonitor(\n",
    "            trainmos,\n",
    "            trainnomos,\n",
    "            testmos,\n",
    "            testnomos,\n",
    "            randomTrainMos,\n",
    "            randomTrainNoMos,\n",
    "            randomTestMos,\n",
    "            randomTestNoMos,\n",
    "            num_seq=50,\n",
    "            save_path=generator_save_path,\n",
    "            #dp=True,\n",
    "            #noise_multiplier=noise_multiplier,\n",
    "            batch_size=BATCH_SIZE,\n",
    "            seq_length=SEQ_LENGTH,\n",
    "            num_features=NUM_FEATURES,\n",
    "        )\n",
    "    ],\n",
    ")\n",
    "\n",
    "if DP_TRAINING:\n",
    "    base_path = f\"models/dp/{EPOCHS}/\"\n",
    "    cond_gan.generator.save(f\"{base_path}cgan_generator\")\n",
    "    cond_gan.discriminator.save(f\"{base_path}cgan_discriminator\")\n",
    "else:\n",
    "    base_path = f\"models/no_dp/{EPOCHS}/\"\n",
    "    cond_gan.generator.save(f\"{base_path}cgan_generator\")\n",
    "    cond_gan.discriminator.save(f\"{base_path}cgan_discriminator\")\n"
   ]
  },
  {
   "cell_type": "code",
   "execution_count": null,
   "metadata": {},
   "outputs": [],
   "source": [
    "compute_dp_sgd_privacy.compute_dp_sgd_privacy(n=trainX.shape[0],\n",
    "                                              batch_size=32,\n",
    "                                              noise_multiplier=noise_multiplier,\n",
    "                                              epochs=10,\n",
    "                                              delta=1e-5)\n",
    "     \n"
   ]
  }
 ],
 "metadata": {
  "kernelspec": {
   "display_name": "cgan",
   "language": "python",
   "name": "python3"
  },
  "language_info": {
   "codemirror_mode": {
    "name": "ipython",
    "version": 3
   },
   "file_extension": ".py",
   "mimetype": "text/x-python",
   "name": "python",
   "nbconvert_exporter": "python",
   "pygments_lexer": "ipython3",
   "version": "3.8.16"
  },
  "orig_nbformat": 4
 },
 "nbformat": 4,
 "nbformat_minor": 2
}
