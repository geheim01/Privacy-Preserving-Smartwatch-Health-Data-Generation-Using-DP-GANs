{
 "cells": [
  {
   "cell_type": "markdown",
   "id": "0ede3d5f",
   "metadata": {},
   "source": [
    "# 02: DGAN"
   ]
  },
  {
   "cell_type": "markdown",
   "id": "657e936f",
   "metadata": {},
   "source": [
    "The implementation of the DGAN comes from the [Gretel-synthetics-Repository](https://github.com/gretelai/gretel-synthetics)"
   ]
  },
  {
   "cell_type": "code",
   "execution_count": 10,
   "id": "15635d1b",
   "metadata": {},
   "outputs": [],
   "source": [
    "import os\n",
    "\n",
    "import numpy as np\n",
    "import pandas as pd\n",
    "\n",
    "from synthesizers.dgan.dgan import DGAN\n",
    "from synthesizers.dgan.config import DGANConfig, OutputType\n"
   ]
  },
  {
   "cell_type": "code",
   "execution_count": 12,
   "id": "32176cf1",
   "metadata": {},
   "outputs": [],
   "source": [
    "windows = np.load('data/wesad/wesad_windows.npy')\n",
    "labels = np.load('data/wesad/wesad_labels.npy')"
   ]
  },
  {
   "cell_type": "code",
   "execution_count": 13,
   "id": "b44a55f0",
   "metadata": {},
   "outputs": [
    {
     "name": "stdout",
     "output_type": "stream",
     "text": [
      "1000\n"
     ]
    }
   ],
   "source": [
    "config = DGANConfig(\n",
    "    max_sequence_len=windows.shape[1],\n",
    "    sample_len=60,\n",
    "    batch_size=min(1000, windows.shape[0]),\n",
    "    apply_feature_scaling=False,\n",
    "    apply_example_scaling=False,\n",
    "    use_attribute_discriminator=False,\n",
    "    generator_learning_rate=1e-4,\n",
    "    discriminator_learning_rate=1e-4,\n",
    "    epochs=10,\n",
    "    cuda=True,\n",
    "    #mps=True\n",
    ")\n",
    "\n",
    "print(config.batch_size)\n",
    "\n",
    "# Train DGAN model\n",
    "model = DGAN(config)"
   ]
  },
  {
   "cell_type": "code",
   "execution_count": 14,
   "id": "3c489406",
   "metadata": {},
   "outputs": [
    {
     "name": "stdout",
     "output_type": "stream",
     "text": [
      "The following device is chosen: cpu\n"
     ]
    },
    {
     "name": "stderr",
     "output_type": "stream",
     "text": [
      "[W ParallelNative.cpp:230] Warning: Cannot set number of intraop threads after parallel work has started or after set_num_threads call when using native parallel backend (function set_num_threads)\n",
      "[W ParallelNative.cpp:230] Warning: Cannot set number of intraop threads after parallel work has started or after set_num_threads call when using native parallel backend (function set_num_threads)\n",
      "Exception ignored in: <function _MultiProcessingDataLoaderIter.__del__ at 0x15773c700>\n",
      "Traceback (most recent call last):\n",
      "  File \"/Users/nils/miniconda3/envs/final_requirements/lib/python3.8/site-packages/torch/utils/data/dataloader.py\", line 1479, in __del__\n",
      "    self._shutdown_workers()\n",
      "  File \"/Users/nils/miniconda3/envs/final_requirements/lib/python3.8/site-packages/torch/utils/data/dataloader.py\", line 1462, in _shutdown_workers\n",
      "    if w.is_alive():\n",
      "  File \"/Users/nils/miniconda3/envs/final_requirements/lib/python3.8/multiprocessing/process.py\", line 160, in is_alive\n",
      "    assert self._parent_pid == os.getpid(), 'can only test a child process'\n",
      "AssertionError: can only test a child process\n"
     ]
    },
    {
     "data": {
      "text/plain": [
       "0"
      ]
     },
     "execution_count": 14,
     "metadata": {},
     "output_type": "execute_result"
    }
   ],
   "source": [
    "model.train_numpy(\n",
    "    windows,\n",
    "    feature_types=[OutputType.CONTINUOUS] * windows.shape[2]\n",
    ")\n",
    "os.system(\"say 'DGAN IST FERTIG'\")"
   ]
  },
  {
   "cell_type": "code",
   "execution_count": 181,
   "id": "06095d41",
   "metadata": {},
   "outputs": [],
   "source": [
    "model.save(\"../models/10_subs_1hz\")"
   ]
  },
  {
   "cell_type": "code",
   "execution_count": 261,
   "id": "a02f5aa9",
   "metadata": {},
   "outputs": [],
   "source": [
    "num_syn_subjects_list = [1] + [i for i in range(10, 101, 10)] + [i for i in range(200, 1001, 100)] "
   ]
  },
  {
   "cell_type": "code",
   "execution_count": 11,
   "id": "3624c1c3",
   "metadata": {},
   "outputs": [
    {
     "ename": "NameError",
     "evalue": "name 'num_syn_subjects_list' is not defined",
     "output_type": "error",
     "traceback": [
      "\u001b[0;31m---------------------------------------------------------------------------\u001b[0m",
      "\u001b[0;31mNameError\u001b[0m                                 Traceback (most recent call last)",
      "Cell \u001b[0;32mIn[11], line 2\u001b[0m\n\u001b[1;32m      1\u001b[0m \u001b[39m# Generate synthetic subject\u001b[39;00m\n\u001b[0;32m----> 2\u001b[0m \u001b[39mfor\u001b[39;00m num_syn_subjects \u001b[39min\u001b[39;00m num_syn_subjects_list:\n\u001b[1;32m      3\u001b[0m     num_syn_samples \u001b[39m=\u001b[39m \u001b[39mlen\u001b[39m(df) \u001b[39m/\u001b[39m\u001b[39m/\u001b[39m \u001b[39m60\u001b[39m \u001b[39m/\u001b[39m\u001b[39m/\u001b[39m \u001b[39m16\u001b[39m \u001b[39m*\u001b[39m num_syn_subjects\n\u001b[1;32m      4\u001b[0m     _, gen_data \u001b[39m=\u001b[39m model\u001b[39m.\u001b[39mgenerate_numpy(num_syn_samples)\n",
      "\u001b[0;31mNameError\u001b[0m: name 'num_syn_subjects_list' is not defined"
     ]
    }
   ],
   "source": [
    "# Generate synthetic subject\n",
    "for num_syn_subjects in num_syn_subjects_list:\n",
    "    num_syn_samples = len(df) // 60 // 16 * num_syn_subjects\n",
    "    _, gen_data = model.generate_numpy(num_syn_samples)\n",
    "    gen_data[:, :, 6] = np.where(gen_data[:, :, 6] >= 0.5, 1, 0)\n",
    "    with open (f\"/Users/nils/thesis/Data_Generation/data/syn/dgan/no_dp/aug/syn_subject_{num_syn_subjects}.npy\", \"wb\") as f:\n",
    "       np.save(f, gen_data)"
   ]
  },
  {
   "cell_type": "code",
   "execution_count": 16,
   "id": "c0d4af88",
   "metadata": {},
   "outputs": [],
   "source": [
    "# Generate synthetic dataset\n",
    "num_syn_samples = windows.shape[0]\n",
    "_, gen_data = model.generate_numpy(num_syn_samples)\n",
    "gen_data[:, :, 6] = np.where(gen_data[:, :, 6] >= 0.5, 1, 0)\n",
    "with open (f\"/Users/nils/thesis/Data_Generation/data/syn/dgan/no_dp/syn_dataset_{num_syn_samples}_10_subjs.npy\", \"wb\") as f:\n",
    "   np.save(f, gen_data)"
   ]
  },
  {
   "cell_type": "code",
   "execution_count": 154,
   "id": "ebd6633a",
   "metadata": {},
   "outputs": [
    {
     "name": "stdout",
     "output_type": "stream",
     "text": [
      "Correlation in real data:\n",
      "            BVP       EDA     ACC_x     ACC_y     ACC_z      TEMP     label\n",
      "BVP    1.000000  0.053760 -0.155608  0.014169  0.098046  0.019357 -0.003817\n",
      "EDA    0.053760  1.000000  0.060626 -0.131111 -0.102899 -0.463535  0.813840\n",
      "ACC_x -0.155608  0.060626  1.000000 -0.094749 -0.117968 -0.096538  0.026616\n",
      "ACC_y  0.014169 -0.131111 -0.094749  1.000000  0.089595  0.120699 -0.052823\n",
      "ACC_z  0.098046 -0.102899 -0.117968  0.089595  1.000000 -0.077563 -0.247918\n",
      "TEMP   0.019357 -0.463535 -0.096538  0.120699 -0.077563  1.000000 -0.496042\n",
      "label -0.003817  0.813840  0.026616 -0.052823 -0.247918 -0.496042  1.000000\n",
      "\n",
      "Correlation in synthetic data:\n",
      "            BVP       EDA     ACC_x     ACC_y     ACC_z      TEMP     label\n",
      "BVP    1.000000  0.223741 -0.047836 -0.376649  0.074046  0.100492  0.195797\n",
      "EDA    0.223741  1.000000 -0.297961 -0.047625 -0.215089 -0.366427  0.785659\n",
      "ACC_x -0.047836 -0.297961  1.000000  0.221981  0.155055 -0.020300 -0.113978\n",
      "ACC_y -0.376649 -0.047625  0.221981  1.000000  0.025453  0.155318 -0.080497\n",
      "ACC_z  0.074046 -0.215089  0.155055  0.025453  1.000000  0.016898 -0.299788\n",
      "TEMP   0.100492 -0.366427 -0.020300  0.155318  0.016898  1.000000 -0.478573\n",
      "label  0.195797  0.785659 -0.113978 -0.080497 -0.299788 -0.478573  1.000000\n"
     ]
    }
   ],
   "source": [
    "# Compare (non-temporal) correlations between the 4 temperatures\n",
    "syn_df = pd.DataFrame(gen_data.reshape(-1, gen_data.shape[2]), columns=df.columns)\n",
    "\n",
    "print(\"Correlation in real data:\")\n",
    "print(df.corr())\n",
    "print()\n",
    "print(\"Correlation in synthetic data:\")\n",
    "print(syn_df.corr())\n"
   ]
  },
  {
   "cell_type": "code",
   "execution_count": 47,
   "id": "57c23482",
   "metadata": {},
   "outputs": [],
   "source": [
    "syn_df = pd.read_csv(\"/Users/nils/thesis/gretel-synthetics/src/syn_df_33152_sorted_new_1hz.csv\", index_col=0)"
   ]
  },
  {
   "cell_type": "code",
   "execution_count": 187,
   "id": "d40ead2c",
   "metadata": {},
   "outputs": [],
   "source": [
    "# Generate synthetic dataset\n",
    "num_syn_samples = windows.shape[0]\n",
    "_, gen_data = model.generate_numpy(num_syn_samples)\n",
    "gen_data[:, :, 6] = np.where(gen_data[:, :, 6] >= 0.5, 1, 0)\n",
    "\n",
    "syn_df = pd.DataFrame(gen_data.reshape(-1, gen_data.shape[2]), columns=df.columns)\n",
    "syn_df = syn_df.sort_values(by=['label'])\n",
    "syn_df.reset_index(drop=True, inplace=True)\n",
    "windows, labels = sliding_windows(syn_df)\n",
    "\n",
    "syn_df.to_csv(f\"/Users/nils/thesis/Data_Generation/data/syn/dgan/no_dp/syn_dataset_{num_syn_samples}_10_subjs.csv\")\n",
    "with open (f\"/Users/nils/thesis/Data_Generation/data/syn/dgan/no_dp/syn_dataset_{num_syn_samples}_10_subjs.npy\", \"wb\") as f:\n",
    "   np.save(f, windows)"
   ]
  }
 ],
 "metadata": {
  "kernelspec": {
   "display_name": "gsynthetics",
   "language": "python",
   "name": "python3"
  },
  "language_info": {
   "codemirror_mode": {
    "name": "ipython",
    "version": 3
   },
   "file_extension": ".py",
   "mimetype": "text/x-python",
   "name": "python",
   "nbconvert_exporter": "python",
   "pygments_lexer": "ipython3",
   "version": "3.8.17"
  },
  "vscode": {
   "interpreter": {
    "hash": "fac62d8624c97cd1fb55710ef6608428ad93fc58df57918aafbce1def137c5a6"
   }
  }
 },
 "nbformat": 4,
 "nbformat_minor": 5
}
