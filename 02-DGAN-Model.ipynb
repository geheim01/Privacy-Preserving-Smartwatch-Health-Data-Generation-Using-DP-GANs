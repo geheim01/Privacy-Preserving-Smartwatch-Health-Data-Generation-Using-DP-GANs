{
 "cells": [
  {
   "cell_type": "markdown",
   "id": "0ede3d5f",
   "metadata": {},
   "source": [
    "# 02: DGAN"
   ]
  },
  {
   "cell_type": "markdown",
   "id": "657e936f",
   "metadata": {},
   "source": [
    "The implementation of the DGAN comes from the [Gretel-synthetics-Repository](https://github.com/gretelai/gretel-synthetics)"
   ]
  },
  {
   "cell_type": "code",
   "execution_count": null,
   "id": "15635d1b",
   "metadata": {},
   "outputs": [],
   "source": [
    "import os\n",
    "\n",
    "import numpy as np\n",
    "import pandas as pd\n",
    "\n",
    "from synthesizers.dgan.dgan import DGAN\n",
    "from synthesizers.dgan.config import DGANConfig, OutputType\n"
   ]
  },
  {
   "cell_type": "code",
   "execution_count": null,
   "id": "32176cf1",
   "metadata": {},
   "outputs": [],
   "source": [
    "windows = np.load('data/wesad/wesad_windows.npy')\n",
    "labels = np.load('data/wesad/wesad_labels.npy')"
   ]
  },
  {
   "cell_type": "code",
   "execution_count": null,
   "id": "b44a55f0",
   "metadata": {},
   "outputs": [],
   "source": [
    "config = DGANConfig(\n",
    "    max_sequence_len=windows.shape[1],\n",
    "    sample_len=60,\n",
    "    batch_size=min(1000, windows.shape[0]),\n",
    "    apply_feature_scaling=False,\n",
    "    apply_example_scaling=False,\n",
    "    use_attribute_discriminator=False,\n",
    "    generator_learning_rate=1e-4,\n",
    "    discriminator_learning_rate=1e-4,\n",
    "    epochs=10000,\n",
    "    cuda=True,\n",
    "    #mps=True\n",
    ")\n",
    "\n",
    "print(config.batch_size)\n",
    "\n",
    "# Train DGAN model\n",
    "model = DGAN(config)"
   ]
  },
  {
   "cell_type": "code",
   "execution_count": null,
   "id": "3c489406",
   "metadata": {},
   "outputs": [],
   "source": [
    "model.train_numpy(\n",
    "    windows,\n",
    "    feature_types=[OutputType.CONTINUOUS] * windows.shape[2]\n",
    ")\n",
    "os.system(\"say 'DGAN IST FERTIG'\")"
   ]
  },
  {
   "cell_type": "code",
   "execution_count": null,
   "id": "d1a8328d",
   "metadata": {},
   "outputs": [],
   "source": [
    "model.save(\"models/dgan/generator\")"
   ]
  },
  {
   "cell_type": "code",
   "execution_count": null,
   "id": "f6819202",
   "metadata": {},
   "outputs": [],
   "source": [
    "model.load(\"models/dgan/generator\")"
   ]
  },
  {
   "cell_type": "code",
   "execution_count": null,
   "id": "3624c1c3",
   "metadata": {},
   "outputs": [],
   "source": [
    "num_syn_subjects_list = [1] + [i for i in range(10, 101, 10)] + [i for i in range(200, 1001, 100)] \n",
    "\n",
    "# Generate synthetic subject\n",
    "for num_syn_subjects in num_syn_subjects_list:\n",
    "    num_syn_samples = windows.shape[0] // 16\n",
    "    _, gen_data = model.generate_numpy(num_syn_samples)\n",
    "    gen_data[:, :, 6] = np.where(gen_data[:, :, 6] >= 0.5, 1, 0)\n",
    "    with open (f\"data/syn/dgan/no_dp/aug/syn_subject_{num_syn_subjects}.npy\", \"wb\") as f:\n",
    "       np.save(f, gen_data)"
   ]
  },
  {
   "cell_type": "code",
   "execution_count": null,
   "id": "c0d4af88",
   "metadata": {},
   "outputs": [],
   "source": [
    "# Generate synthetic dataset\n",
    "num_syn_samples = windows.shape[0]\n",
    "_, gen_data = model.generate_numpy(num_syn_samples)\n",
    "gen_data[:, :, 6] = np.where(gen_data[:, :, 6] >= 0.5, 1, 0)\n",
    "with open (f\"data/syn/dgan/no_dp/syn_dataset_{num_syn_samples}_10_subjs.npy\", \"wb\") as f:\n",
    "   np.save(f, gen_data)"
   ]
  }
 ],
 "metadata": {
  "kernelspec": {
   "display_name": "gsynthetics",
   "language": "python",
   "name": "python3"
  },
  "language_info": {
   "codemirror_mode": {
    "name": "ipython",
    "version": 3
   },
   "file_extension": ".py",
   "mimetype": "text/x-python",
   "name": "python",
   "nbconvert_exporter": "python",
   "pygments_lexer": "ipython3",
   "version": "3.8.17"
  },
  "vscode": {
   "interpreter": {
    "hash": "fac62d8624c97cd1fb55710ef6608428ad93fc58df57918aafbce1def137c5a6"
   }
  }
 },
 "nbformat": 4,
 "nbformat_minor": 5
}
