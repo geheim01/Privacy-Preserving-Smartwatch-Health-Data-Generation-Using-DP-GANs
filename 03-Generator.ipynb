{
 "cells": [
  {
   "attachments": {},
   "cell_type": "markdown",
   "metadata": {},
   "source": [
    "# 03: Generator"
   ]
  },
  {
   "cell_type": "code",
   "execution_count": 1,
   "metadata": {},
   "outputs": [
    {
     "name": "stdout",
     "output_type": "stream",
     "text": [
      "WARNING:tensorflow:No training configuration found in save file, so the model was *not* compiled. Compile it manually.\n",
      "WARNING:tensorflow:No training configuration found in save file, so the model was *not* compiled. Compile it manually.\n"
     ]
    }
   ],
   "source": [
    "from tensorflow import keras\n",
    "import tensorflow as tf\n",
    "import numpy as np\n",
    "\n",
    "generator = keras.models.load_model(f\"./models/sixty_seconds/cond_generator_2806_0.65625\")\n",
    "\n",
    "# generator = keras.models.load_model(f\"./models/no_dp/3000/cgan_generatorgenerator_2307_0.6785714285714286\")\n",
    "generator_dp = keras.models.load_model(f\"./models/dp/1000/cgan_generator\")\n",
    "\n",
    "# discriminator = keras.models.load_model(\"./models/cond_discriminator\")"
   ]
  },
  {
   "cell_type": "code",
   "execution_count": 2,
   "metadata": {},
   "outputs": [],
   "source": [
    "num_syn_samples = 36 // 2 * 150\n",
    "latent_dim = 60\n",
    "\n",
    "label_no_stress = tf.zeros([num_syn_samples,1])\n",
    "label_stress = tf.ones([num_syn_samples,1])\n",
    "\n",
    "random_vector = tf.random.normal(shape=(num_syn_samples,latent_dim))\n",
    "\n",
    "syn_no_stress = generator([random_vector, label_no_stress])\n",
    "syn_stress = generator([random_vector, label_stress])\n",
    "\n",
    "dp_syn_no_stress = generator_dp([random_vector, label_no_stress])\n",
    "dp_syn_stress = generator_dp([random_vector, label_stress])\n",
    "\n",
    "zero = np.zeros([num_syn_samples, 60, 1])\n",
    "ones = np.ones([num_syn_samples, 60, 1])\n",
    "\n",
    "no_stress = np.append(np.array(syn_no_stress), zero, axis=2)\n",
    "stress = np.append(np.array(syn_stress), ones, axis=2)\n",
    "\n",
    "dp_no_stress = np.append(np.array(dp_syn_no_stress), zero, axis=2)\n",
    "dp_stress = np.append(np.array(dp_syn_stress), ones, axis=2)\n",
    "\n",
    "gen_data = np.concatenate((no_stress, stress))\n",
    "\n",
    "dp_gen_data = np.concatenate((dp_no_stress, dp_stress))"
   ]
  },
  {
   "cell_type": "code",
   "execution_count": 3,
   "metadata": {},
   "outputs": [],
   "source": [
    "# save dp synthetic data\n",
    "with open (f\"data/syn/cgan/dp/5400.npy\", \"wb\") as f:\n",
    "    np.save(f, dp_gen_data)\n",
    "# save synthetic data\n",
    "with open (f\"data/syn/cgan/no_dp/5400_0.65625.npy\", \"wb\") as f:\n",
    "    np.save(f, gen_data)"
   ]
  }
 ],
 "metadata": {
  "kernelspec": {
   "display_name": "cgan",
   "language": "python",
   "name": "python3"
  },
  "language_info": {
   "codemirror_mode": {
    "name": "ipython",
    "version": 3
   },
   "file_extension": ".py",
   "mimetype": "text/x-python",
   "name": "python",
   "nbconvert_exporter": "python",
   "pygments_lexer": "ipython3",
   "version": "3.8.16"
  },
  "orig_nbformat": 4
 },
 "nbformat": 4,
 "nbformat_minor": 2
}
