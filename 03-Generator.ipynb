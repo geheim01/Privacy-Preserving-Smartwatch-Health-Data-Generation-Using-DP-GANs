{
 "cells": [
  {
   "attachments": {},
   "cell_type": "markdown",
   "metadata": {},
   "source": [
    "# 03: Generator"
   ]
  },
  {
   "cell_type": "code",
   "execution_count": 1,
   "metadata": {},
   "outputs": [
    {
     "name": "stdout",
     "output_type": "stream",
     "text": [
      "WARNING:tensorflow:No training configuration found in save file, so the model was *not* compiled. Compile it manually.\n"
     ]
    }
   ],
   "source": [
    "from tensorflow import keras\n",
    "import tensorflow as tf\n",
    "import numpy as np\n",
    "import os\n",
    "\n",
    "run_name = \"resilient-sweep-1-0.75\"\n",
    "generator = keras.models.load_model(f\"./models/no_dp/{run_name}/cgan_generator\")"
   ]
  },
  {
   "cell_type": "code",
   "execution_count": 2,
   "metadata": {},
   "outputs": [],
   "source": [
    "def generate(model, num_syn_samples, latent_dim):\n",
    "    label_non_stress = tf.zeros([num_syn_samples,1])\n",
    "    label_stress = tf.ones([num_syn_samples,1])\n",
    "\n",
    "    random_vector = tf.random.normal(shape=(num_syn_samples,latent_dim))\n",
    "\n",
    "    syn_non_stress = model([random_vector, label_non_stress])\n",
    "    syn_stress = model([random_vector, label_stress])\n",
    "\n",
    "    zero = np.zeros([num_syn_samples, 60, 1])\n",
    "    ones = np.ones([num_syn_samples, 60, 1])\n",
    "\n",
    "    non_stress = np.append(np.array(syn_non_stress), zero, axis=2)\n",
    "    stress = np.append(np.array(syn_stress), ones, axis=2)\n",
    "\n",
    "    gen_data = np.concatenate((non_stress, stress))\n",
    "\n",
    "    return gen_data\n"
   ]
  },
  {
   "cell_type": "code",
   "execution_count": 3,
   "metadata": {},
   "outputs": [],
   "source": [
    "num_syn_samples = 36 * 15\n",
    "latent_dim = 60\n",
    "\n",
    "directory = f\"data/syn/cgan/no_dp/lstm/{run_name}\"\n",
    "os.makedirs(directory, exist_ok=True)\n",
    "\n",
    "gen_data = generate(generator, num_syn_samples, latent_dim)\n",
    "with open(f\"{directory}/syn_dataset_{num_syn_samples*2}.npy\", \"wb\") as f:\n",
    "   np.save(f, gen_data)\n",
    "\n",
    "num_syn_samples = 36\n",
    "latent_dim = 60\n",
    "\n",
    "gen_data = generate(generator, num_syn_samples, latent_dim)\n",
    "with open(f\"{directory}/syn_subject_34.npy\", \"wb\") as f:\n",
    "   np.save(f, gen_data)"
   ]
  },
  {
   "cell_type": "markdown",
   "metadata": {},
   "source": [
    "### LOSO Per Subject"
   ]
  },
  {
   "cell_type": "code",
   "execution_count": 4,
   "metadata": {},
   "outputs": [
    {
     "name": "stdout",
     "output_type": "stream",
     "text": [
      "WARNING:tensorflow:No training configuration found in save file, so the model was *not* compiled. Compile it manually.\n"
     ]
    }
   ],
   "source": [
    "sub = \"sub14\"\n",
    "run_name = \"toasty-sweep-2\"\n",
    "\n",
    "generator = keras.models.load_model(f\"./models/no_dp/loso/{sub}/{run_name}/cgan_generator\")\n",
    "\n",
    "num_syn_samples = 36 * 15 // 2\n",
    "latent_dim = 60\n",
    "\n",
    "directory = f\"data/syn/cgan/no_dp/lstm/loso/{sub}/{run_name}\"\n",
    "\n",
    "num_syns = [i for i in range(1,11,1)]\n",
    "\n",
    "num_syn_samples = 36\n",
    "latent_dim = 60\n",
    "\n",
    "for num in num_syns:\n",
    "    directory = f\"data/syn/cgan/no_dp/lstm/loso/{sub}/{run_name}/sub_num_{num}\"\n",
    "    # Create the directory if it doesn't exist\n",
    "    os.makedirs(directory, exist_ok=True)\n",
    "    gen_data = generate(generator, num_syn_samples*num, latent_dim)\n",
    "    with open(f\"{directory}/syn_subject_72.npy\", \"wb\") as f:\n",
    "        np.save(f, gen_data)"
   ]
  }
 ],
 "metadata": {
  "kernelspec": {
   "display_name": "cgan",
   "language": "python",
   "name": "python3"
  },
  "language_info": {
   "codemirror_mode": {
    "name": "ipython",
    "version": 3
   },
   "file_extension": ".py",
   "mimetype": "text/x-python",
   "name": "python",
   "nbconvert_exporter": "python",
   "pygments_lexer": "ipython3",
   "version": "3.8.17"
  },
  "orig_nbformat": 4
 },
 "nbformat": 4,
 "nbformat_minor": 2
}
