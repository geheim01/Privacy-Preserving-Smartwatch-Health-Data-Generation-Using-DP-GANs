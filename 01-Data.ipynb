{
 "cells": [
  {
   "attachments": {},
   "cell_type": "markdown",
   "metadata": {},
   "source": [
    "# 01: Data Preprocessing"
   ]
  },
  {
   "attachments": {},
   "cell_type": "markdown",
   "metadata": {},
   "source": [
    "This code is part of a data preprocessing pipeline for a machine learning project focused on stress detection from wearable devices. The data is obtained from the WESAD dataset and is stored locally.\n",
    "\n",
    "The code initializes a dataset object by specifying the data path and a list of subject numbers to include. It then extracts preprocessed data for each subject and concatenates them into a single dataframe. Finally, it saves the concatenated data as a CSV file.\n",
    "\n",
    "This code can be used as a starting point for further analysis and modeling, as it provides a clean and organized dataset for stress detection."
   ]
  },
  {
   "cell_type": "code",
   "execution_count": 1,
   "metadata": {},
   "outputs": [],
   "source": [
    "import os\n",
    "from synthesizers.preprocessing.wesad import WESADDataset"
   ]
  },
  {
   "cell_type": "code",
   "execution_count": null,
   "metadata": {},
   "outputs": [],
   "source": [
    "SAMPLING_RATE = 1\n",
    "DATA_PATH = os.path.realpath(\"/Users/nils/master/Stress-Detection-From-Wearables/data/WESAD\")\n",
    "SUBJECT_NUMS = [2, 3, 4, 5, 6, 7, 8, 9, 10, 11, 13, 14, 15, 16, 17]\n",
    "\n",
    "wesad_dataset = WESADDataset(DATA_PATH, SUBJECT_NUMS)\n",
    "\n",
    "# Get concatenated preprocessed data for all subjects as a single dataframe\n",
    "df = wesad_dataset.get_all_data(sampling_rate=SAMPLING_RATE, normalize=True)\n",
    "\n",
    "df.to_csv(f\"data/wesad/wesad_preprocessed_{SAMPLING_RATE}hz.csv\")"
   ]
  }
 ],
 "metadata": {
  "kernelspec": {
   "display_name": "cgan",
   "language": "python",
   "name": "python3"
  },
  "language_info": {
   "codemirror_mode": {
    "name": "ipython",
    "version": 3
   },
   "file_extension": ".py",
   "mimetype": "text/x-python",
   "name": "python",
   "nbconvert_exporter": "python",
   "pygments_lexer": "ipython3",
   "version": "3.8.16"
  },
  "orig_nbformat": 4
 },
 "nbformat": 4,
 "nbformat_minor": 2
}
